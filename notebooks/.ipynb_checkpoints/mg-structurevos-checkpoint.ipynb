{
 "cells": [
  {
   "cell_type": "markdown",
   "id": "25a65f67-c607-4d6b-8a0c-a8281a5f5ae6",
   "metadata": {},
   "source": [
    "<h3>Importation des bibliothèques nécessaires</h3>"
   ]
  },
  {
   "cell_type": "code",
   "execution_count": 1,
   "id": "21bb6b2a-b2bf-4bc5-a596-37a37666d5de",
   "metadata": {},
   "outputs": [
    {
     "name": "stderr",
     "output_type": "stream",
     "text": [
      "2024-02-24 12:43:09.093003: I tensorflow/tsl/cuda/cudart_stub.cc:28] Could not find cuda drivers on your machine, GPU will not be used.\n",
      "2024-02-24 12:43:09.206856: E tensorflow/compiler/xla/stream_executor/cuda/cuda_dnn.cc:9342] Unable to register cuDNN factory: Attempting to register factory for plugin cuDNN when one has already been registered\n",
      "2024-02-24 12:43:09.206937: E tensorflow/compiler/xla/stream_executor/cuda/cuda_fft.cc:609] Unable to register cuFFT factory: Attempting to register factory for plugin cuFFT when one has already been registered\n",
      "2024-02-24 12:43:09.206997: E tensorflow/compiler/xla/stream_executor/cuda/cuda_blas.cc:1518] Unable to register cuBLAS factory: Attempting to register factory for plugin cuBLAS when one has already been registered\n",
      "2024-02-24 12:43:09.224671: I tensorflow/tsl/cuda/cudart_stub.cc:28] Could not find cuda drivers on your machine, GPU will not be used.\n",
      "2024-02-24 12:43:09.225959: I tensorflow/core/platform/cpu_feature_guard.cc:182] This TensorFlow binary is optimized to use available CPU instructions in performance-critical operations.\n",
      "To enable the following instructions: AVX2 FMA, in other operations, rebuild TensorFlow with the appropriate compiler flags.\n",
      "2024-02-24 12:43:16.012878: W tensorflow/compiler/tf2tensorrt/utils/py_utils.cc:38] TF-TRT Warning: Could not find TensorRT\n"
     ]
    }
   ],
   "source": [
    "import pandas as pd\n",
    "import numpy as np\n",
    "\n",
    "import re\n",
    "import nltk\n",
    "from nltk.tokenize import word_tokenize, sent_tokenize\n",
    "\n",
    "from collections import Counter\n",
    "import joblib\n",
    "\n",
    "import time\n",
    "\n",
    "from sklearn.model_selection import train_test_split\n",
    "from sklearn.preprocessing import LabelEncoder\n",
    "\n",
    "from keras.models import Sequential\n",
    "from keras.layers import Bidirectional, Embedding, LSTM, Dense\n",
    "from keras.preprocessing.sequence import pad_sequences\n",
    "from keras.models import load_model\n"
   ]
  },
  {
   "cell_type": "markdown",
   "id": "3066ca8c-9b9a-4d4b-b567-b48e0af327ec",
   "metadata": {},
   "source": [
    "<h3>Chargement des données & Tokenisation des phrases</h3>"
   ]
  },
  {
   "cell_type": "markdown",
   "id": "0e67cc6e-bff7-4774-8644-83dd6be2d1f6",
   "metadata": {},
   "source": [
    "Le fichier csv se divise en deux:\n",
    "<li>df_td : Tso-drafitra</li>\n",
    "<li>df_md : Mivadi-drafitra</li>"
   ]
  },
  {
   "cell_type": "code",
   "execution_count": 2,
   "id": "74d1ae5c-ea14-4146-a549-f7698176c8db",
   "metadata": {},
   "outputs": [],
   "source": [
    "start = time.time()"
   ]
  },
  {
   "cell_type": "markdown",
   "id": "836de4cd-49cc-4adf-820d-a2a54fa1674a",
   "metadata": {},
   "source": [
    "<h4>Tso-drafitra</h4>"
   ]
  },
  {
   "cell_type": "code",
   "execution_count": 3,
   "id": "824a1380-bc92-47ca-ae76-fd6efda41f10",
   "metadata": {},
   "outputs": [],
   "source": [
    "stopwords_file_path_td = '/home/vatosoa/mg-smart-lingua-discover/data/corpus/stopwords-td.txt'\n",
    "with open(stopwords_file_path_td,'r', encoding='utf-8') as file:\n",
    "    stop_words_td = set(file.read().splitlines())\n",
    "\n",
    "file_path_td = '/home/vatosoa/mg-smart-lingua-discover/data/corpus/firafitra-td.csv'\n",
    "df_td = pd.read_csv(file_path_td)\n",
    "\n",
    "# Colonnes 'Fehezanteny' et 'Sokajinteny' sont remplies ?\n",
    "df_td['Fehezanteny'].fillna('', inplace=True)\n",
    "df_td['Firafitra'].fillna('', inplace=True)\n",
    "\n",
    "# Fonction de tokenisation de mots\n",
    "def tokenize_words_td(text):\n",
    "    if isinstance(text, str):\n",
    "        text = re.sub(r'[-;:()?!,.\\'\"\\/|]', ' ', text)\n",
    "        tokens = nltk.word_tokenize(text)\n",
    "        #tokens = [token.lower() for token in tokens if token.isalnum()]\n",
    "        tokens = [token.lower() for token in tokens if token.isalnum() and token.lower() not in stop_words_td]\n",
    "\n",
    "        return tokens\n",
    "    else:\n",
    "        return []\n",
    "\n",
    "# Appliquer la tokenisation aux phrases et créer une colonne pour les tokens\n",
    "df_td['Fehezanteny_tokens'] = df_td['Fehezanteny'].apply(tokenize_words_td)\n",
    "\n",
    "# Associer chaque token à son étiquette correspondante\n",
    "df_td['Firafitra_tokens'] = df_td['Firafitra'].apply(lambda x: x.split())"
   ]
  },
  {
   "cell_type": "code",
   "execution_count": 4,
   "id": "bc94e725-e85d-4b6a-bde4-f3a357d340d4",
   "metadata": {
    "scrolled": true
   },
   "outputs": [
    {
     "name": "stdout",
     "output_type": "stream",
     "text": [
      "                                          Fehezanteny  \\\n",
      "0   \"Tamin'ny voalohany Andriamanitra nahary ny la...   \n",
      "1   \"Ary ny fanahin'Andriamanitra nanomba tambonin...   \n",
      "2   \"Ary Andriamanitra nanao hoe: Misia mazava; di...   \n",
      "3   \"Ary hitan'Andriamanitra fa tsara ny mazava; a...   \n",
      "4   \"Ary Andriamanitra nanao ny mazava hoe andro; ...   \n",
      "5   \"Dia nisy hariva, ary nisy maraina, andro voal...   \n",
      "6   \"Ary Andriamanitra nanao hoe: Misia habakabaka...   \n",
      "7   \"Ary Andriamanitra nanao ny habakabakaka ka na...   \n",
      "8   \"Ary Andriamanitra nanao ny habakabaka hoe lan...   \n",
      "9   \"Dia nisy hariva, ary nisy maraina, andro faha...   \n",
      "10  \"Ary Andriamanitra nanao hoe : Aoka hiangona n...   \n",
      "11  \"Ary Andriamanitra nanao ny maina hoe tany; ar...   \n",
      "12          \"Ary hitan'Andriamanitra fa tsara izany.\"   \n",
      "13  \"Ary Andriamanitra nanao hoe: Aoka ny tany han...   \n",
      "14  \"Ary ny tany naniry ahitra sy anana mamoa samy...   \n",
      "15  \"Dia nisy hariva, ary nisy maraina, andro faha...   \n",
      "16  \"Ary Andriamanitra nanao hoe: Misia fahazavana...   \n",
      "17  \"Ary aoka ho fanazavana eny amin'ny habakabaky...   \n",
      "18  \"Ary Andriamanitra nanao ny fanazavana roa leh...   \n",
      "19  \"Ary Andriamanitra nametraka azy teny amin'ny ...   \n",
      "20          \"Ary hitan'Andriamanitra fa tsara izany.\"   \n",
      "21  \"Dia nisy hariva, ary nisy maraina, andro fahe...   \n",
      "22  \"Ary Andriamanitra nanao hoe: Aoka ny rano ho ...   \n",
      "23  \"Ary Andriamanitra nahary ny biby vaventy anat...   \n",
      "24          \"Ary hitan'Andriamanitra fa tsara izany.\"   \n",
      "25  \"Ary Andriamanitra nitso-drano azy hoe: Maroa ...   \n",
      "26  \"Dia nisy ny hariva, ary nisy maraina, andro f...   \n",
      "27  \"Ary Andriamanitra nanao hoe: Aoka ny tany ham...   \n",
      "28  \"Ary Andriamanitra nanao ny bibi-dia, samy ara...   \n",
      "29          \"Ary hitan'Andriamanitra fa tsara izany.\"   \n",
      "30  \"Ary Andriamanitra nanao hoe: Andeha Isika ham...   \n",
      "31  \"Ary Andriamanitra nahary ny olona tahaka ny e...   \n",
      "32  \"Ary Andriamanitra nitso-drano azy hoe: Maroa ...   \n",
      "33  \"Ary Andriamanitra nanao hoe: Indro, efa nomek...   \n",
      "34  \"Ary ny amin'ny bibi-dia rehetra sy ny voro-ma...   \n",
      "35  \"Ary hitan'Andriamanitra izay rehetra nataony,...   \n",
      "36  \"Dia nisy ny hariva, ary nisy maraina, andro f...   \n",
      "37  \"Ary hitan'Andriamanitra izay rehetra nataony,...   \n",
      "38  \"Dia nisy ny hariva, ary nisy maraina, andro f...   \n",
      "39  \"Dia vita ny lanitra sy ny tany sy izay rehetr...   \n",
      "40  \"Ary tamin'ny andro fahafito dia vitan'Andriam...   \n",
      "41  \"Ary Andriamanitra nitahy ny andro fahafito sy...   \n",
      "42  \"Ny saha tao Edena, sy ny toetry ny olombelona...   \n",
      "43  \"Ary izao no tantaran'ny lanitra sy ny tany ta...   \n",
      "44  \"Ary vovo-tany no namoronan'i Jehovah Andriama...   \n",
      "45  \"Ary Jehovah Andriamanitra nanao saha tao Eden...   \n",
      "46  \"Ary nisy ony nivoaka avy tao Edena handena ny...   \n",
      "\n",
      "                                            Firafitra  \\\n",
      "0                                            L EM F F   \n",
      "1                                            L L EM F   \n",
      "2                                      L EM EM L EM L   \n",
      "3                                  EM L EM L EM L F F   \n",
      "4                                     L EM F F L EM F   \n",
      "5                                         EM L EM L F   \n",
      "6                              L EM EM F L L EM F F L   \n",
      "7                                L EM F EM L F F F EM   \n",
      "8                                            L EM F F   \n",
      "9                                         EM L EM L F   \n",
      "10                              L EM EM L F F EM L EM   \n",
      "11                                 L EM F F L EM EM F   \n",
      "12                                               EM L   \n",
      "13                L EM L EM F F F F F F F F EM L F EM   \n",
      "14                             L EM F F F L EM EM L F   \n",
      "15                                       EM L EM L F    \n",
      "16                        L EM EM L F F F F F F F F F   \n",
      "17                                   EM F F L EM L EM   \n",
      "18                             L EM F L EM F L EM F F   \n",
      "19                    L EM F F F L EM F EM L L EM L L   \n",
      "20                                               EM L   \n",
      "21                                        EM L EM L F   \n",
      "22                       L EM L EM F F F EM L F F F F   \n",
      "23                L EM F F F F F F F F F F F F F F F    \n",
      "24                                               EM L   \n",
      "25                    L EM EM F EM L EM EM L F L EM F   \n",
      "26                                        EM L EM L F   \n",
      "27                      L EM L EM F F F F L L L L EM    \n",
      "28                       L EM F F F F F F F EM EM L F   \n",
      "29                                               EM L   \n",
      "30    L EM EM L EM L F F F L EM F F F F F F F EM EM L   \n",
      "31                     L EM F F F F F F EM L F F EM L   \n",
      "32      L EM EM F EM L EM EM L EM L EM L F F F F EM L   \n",
      "33               L EM EM L F F F F F EM L EM L EM L F   \n",
      "34               F F F F F F F EM EM L EM L F F EM EM   \n",
      "35                                       EM L EM EM F   \n",
      "36                                        EM L EM L F   \n",
      "37                                       EM L EM EM L   \n",
      "38                                        EM L EM L F   \n",
      "39                                             EM L L   \n",
      "40                            F EM L F EM EM F L F EM   \n",
      "41                         L EM F EM L EM L F EM EM L   \n",
      "42                                L F L L EM EM EM L    \n",
      "43  F EM L L EM L EM L L F F L L L EM EM EM F L L ...   \n",
      "44                      F F EM L L F EM L EM L EM L F   \n",
      "45                               L L EM F F F EM L EM   \n",
      "46                EM L L F F EM EM EM L L L F F F F F   \n",
      "\n",
      "                                   Fehezanteny_tokens  \\\n",
      "0              [andriamanitra, nahary, lanitra, tany]   \n",
      "1             [fanahin, andriamanitra, nanomba, rano]   \n",
      "2   [andriamanitra, nanao, misia, mazava, nisy, ma...   \n",
      "3   [hitan, andriamanitra, mazava, nampisarahin, a...   \n",
      "4   [andriamanitra, nanao, mazava, andro, maizina,...   \n",
      "5                [nisy, hariva, nisy, maraina, andro]   \n",
      "6   [andriamanitra, nanao, misia, habakabaka, anel...   \n",
      "7   [andriamanitra, nanao, habakabakaka, ka, nampi...   \n",
      "8         [andriamanitra, nanao, habakabaka, lanitra]   \n",
      "9                [nisy, hariva, nisy, maraina, andro]   \n",
      "10  [andriamanitra, nanao, hiangona, rano, lanitra...   \n",
      "11  [andriamanitra, nanao, maina, tany, rano, tafa...   \n",
      "12                             [hitan, andriamanitra]   \n",
      "13  [andriamanitra, nanao, tany, haniry, ahitra, a...   \n",
      "14  [tany, naniry, ahitra, anana, mamoa, karazany,...   \n",
      "15     [nisy, hariva, nisy, maraina, andro, fahatelo]   \n",
      "16  [andriamanitra, nanao, misia, fahazavana, haba...   \n",
      "17  [fanazavana, habakabaky, lanitra, izy, hanazav...   \n",
      "18  [andriamanitra, nanao, fanazavana, roa, lehibe...   \n",
      "19  [andriamanitra, nametraka, azy, teny, habakaba...   \n",
      "20                             [hitan, andriamanitra]   \n",
      "21    [nisy, hariva, nisy, maraina, andro, fahefatra]   \n",
      "22  [andriamanitra, nanao, rano, be, zava, manan, ...   \n",
      "23  [andriamanitra, nahary, biby, vaventy, anaty, ...   \n",
      "24                             [hitan, andriamanitra]   \n",
      "25  [andriamanitra, nitso, drano, azy, maroa, anak...   \n",
      "26     [nisy, hariva, nisy, maraina, andro, fahadimy]   \n",
      "27  [andriamanitra, nanao, tany, hamoaka, zava, ma...   \n",
      "28  [andriamanitra, nanao, bibi, karazany, biby, f...   \n",
      "29                             [hitan, andriamanitra]   \n",
      "30  [andriamanitra, nanao, andeha, isika, hamorona...   \n",
      "31  [andriamanitra, nahary, olona, tahaka, endriny...   \n",
      "32  [andriamanitra, nitso, drano, azy, maroa, fara...   \n",
      "33  [andriamanitra, nanao, nomeko, anareo, anana, ...   \n",
      "34  [bibi, voro, manidina, zava, manan, aina, mand...   \n",
      "35         [hitan, andriamanitra, nataony, indrindra]   \n",
      "36     [nisy, hariva, nisy, maraina, andro, fahenina]   \n",
      "37         [hitan, andriamanitra, nataony, indrindra]   \n",
      "38     [nisy, hariva, nisy, maraina, andro, fahenina]   \n",
      "39                       [vita, lanitra, tany, aminy]   \n",
      "40  [andro, fahafito, vitan, andriamanitra, asa, n...   \n",
      "41  [andriamanitra, nitahy, andro, fahafito, nanam...   \n",
      "42  [saha, edena, toetry, olombelona, tsy, mbola, ...   \n",
      "43  [izao, tantaran, lanitra, tany, namoronana, az...   \n",
      "44  [vovo, tany, namoronan, i, jehovah, andriamani...   \n",
      "45  [jehovah, andriamanitra, nanao, saha, edena, t...   \n",
      "46  [nisy, ony, nivoaka, edena, handena, saha, hat...   \n",
      "\n",
      "                                     Firafitra_tokens  \n",
      "0                                       [L, EM, F, F]  \n",
      "1                                       [L, L, EM, F]  \n",
      "2                               [L, EM, EM, L, EM, L]  \n",
      "3                         [EM, L, EM, L, EM, L, F, F]  \n",
      "4                             [L, EM, F, F, L, EM, F]  \n",
      "5                                   [EM, L, EM, L, F]  \n",
      "6                   [L, EM, EM, F, L, L, EM, F, F, L]  \n",
      "7                      [L, EM, F, EM, L, F, F, F, EM]  \n",
      "8                                       [L, EM, F, F]  \n",
      "9                                   [EM, L, EM, L, F]  \n",
      "10                    [L, EM, EM, L, F, F, EM, L, EM]  \n",
      "11                        [L, EM, F, F, L, EM, EM, F]  \n",
      "12                                            [EM, L]  \n",
      "13  [L, EM, L, EM, F, F, F, F, F, F, F, F, EM, L, ...  \n",
      "14                  [L, EM, F, F, F, L, EM, EM, L, F]  \n",
      "15                                  [EM, L, EM, L, F]  \n",
      "16          [L, EM, EM, L, F, F, F, F, F, F, F, F, F]  \n",
      "17                           [EM, F, F, L, EM, L, EM]  \n",
      "18                  [L, EM, F, L, EM, F, L, EM, F, F]  \n",
      "19     [L, EM, F, F, F, L, EM, F, EM, L, L, EM, L, L]  \n",
      "20                                            [EM, L]  \n",
      "21                                  [EM, L, EM, L, F]  \n",
      "22         [L, EM, L, EM, F, F, F, EM, L, F, F, F, F]  \n",
      "23  [L, EM, F, F, F, F, F, F, F, F, F, F, F, F, F,...  \n",
      "24                                            [EM, L]  \n",
      "25      [L, EM, EM, F, EM, L, EM, EM, L, F, L, EM, F]  \n",
      "26                                  [EM, L, EM, L, F]  \n",
      "27         [L, EM, L, EM, F, F, F, F, L, L, L, L, EM]  \n",
      "28         [L, EM, F, F, F, F, F, F, F, EM, EM, L, F]  \n",
      "29                                            [EM, L]  \n",
      "30  [L, EM, EM, L, EM, L, F, F, F, L, EM, F, F, F,...  \n",
      "31      [L, EM, F, F, F, F, F, F, EM, L, F, F, EM, L]  \n",
      "32  [L, EM, EM, F, EM, L, EM, EM, L, EM, L, EM, L,...  \n",
      "33  [L, EM, EM, L, F, F, F, F, F, EM, L, EM, L, EM...  \n",
      "34  [F, F, F, F, F, F, F, EM, EM, L, EM, L, F, F, ...  \n",
      "35                                 [EM, L, EM, EM, F]  \n",
      "36                                  [EM, L, EM, L, F]  \n",
      "37                                 [EM, L, EM, EM, L]  \n",
      "38                                  [EM, L, EM, L, F]  \n",
      "39                                         [EM, L, L]  \n",
      "40                 [F, EM, L, F, EM, EM, F, L, F, EM]  \n",
      "41             [L, EM, F, EM, L, EM, L, F, EM, EM, L]  \n",
      "42                        [L, F, L, L, EM, EM, EM, L]  \n",
      "43  [F, EM, L, L, EM, L, EM, L, L, F, F, L, L, L, ...  \n",
      "44        [F, F, EM, L, L, F, EM, L, EM, L, EM, L, F]  \n",
      "45                     [L, L, EM, F, F, F, EM, L, EM]  \n",
      "46  [EM, L, L, F, F, EM, EM, EM, L, L, L, F, F, F,...  \n"
     ]
    }
   ],
   "source": [
    "print(df_td)"
   ]
  },
  {
   "cell_type": "markdown",
   "id": "60d520ce-f9e0-43bc-8378-da99bcfdb6e9",
   "metadata": {},
   "source": [
    "<h4>Mivadi-drafitra</h4>"
   ]
  },
  {
   "cell_type": "code",
   "execution_count": 5,
   "id": "6bb1f162-cbf9-4404-8f11-6577fae87000",
   "metadata": {},
   "outputs": [],
   "source": [
    "stopwords_file_path_md = '/home/vatosoa/mg-smart-lingua-discover/data/corpus/stopwords-md.txt'\n",
    "with open(stopwords_file_path_md,'r', encoding='utf-8') as file:\n",
    "    stop_words_md = set(file.read().splitlines())\n",
    "\n",
    "file_path_md = '/home/vatosoa/mg-smart-lingua-discover/data/corpus/firafitra-md.csv'\n",
    "df_md = pd.read_csv(file_path_md)\n",
    "\n",
    "# Colonnes 'Fehezanteny' et 'Sokajinteny' sont remplies ?\n",
    "df_md['Fehezanteny'].fillna('', inplace=True)\n",
    "df_md['Firafitra'].fillna('', inplace=True)\n",
    "\n",
    "# Fonction de tokenisation de mots\n",
    "def tokenize_words_md(text):\n",
    "    if isinstance(text, str):\n",
    "        text = re.sub(r'[-;:()?!,.\\'\"\\/|]', ' ', text)\n",
    "        tokens = nltk.word_tokenize(text)\n",
    "        #tokens = [token.lower() for token in tokens if token.isalnum()]\n",
    "        tokens = [token.lower() for token in tokens if token.isalnum() and token.lower() not in stop_words_md]\n",
    "\n",
    "        return tokens\n",
    "    else:\n",
    "        return []\n",
    "\n",
    "# Appliquer la tokenisation aux phrases et créer une colonne pour les tokens\n",
    "df_md['Fehezanteny_tokens'] = df_md['Fehezanteny'].apply(tokenize_words_md)\n",
    "\n",
    "# Associer chaque token à son étiquette correspondante\n",
    "df_md['Firafitra_tokens'] = df_md['Firafitra'].apply(lambda x: x.split())"
   ]
  },
  {
   "cell_type": "code",
   "execution_count": 6,
   "id": "696be69e-56b3-404a-86d5-f7f071053cc8",
   "metadata": {
    "scrolled": true
   },
   "outputs": [
    {
     "name": "stdout",
     "output_type": "stream",
     "text": [
      "                                         Fehezanteny  \\\n",
      "0  \"Tamin'ny voalohany Andriamanitra dia nahary n...   \n",
      "1  \"Ary ny tany dia tsy nisy endrika sady foana; ...   \n",
      "2  \"Ary ny fanahin'Andriamanitra dia nanomba tamb...   \n",
      "3  \"Ary Andriamanitra nanao hoe: Misia mazava; ma...   \n",
      "4  \"Ary Andriamanitra dia nahita fa tsara ny maza...   \n",
      "5  \"Ary ny mazava dia nataon'Andriamanitra hoe an...   \n",
      "6  \"Ary Andriamanitra dia nanao ny habakabakaka k...   \n",
      "7  \"Ary Andriamanitra dia nanao ny habakabaka hoe...   \n",
      "8            \"Izy dia hitan'Andriamanitra fa tsara.\"   \n",
      "\n",
      "                       Firafitra  \\\n",
      "0              L Kianteny EM F F   \n",
      "1      L Kianteny EM EM F F L EM   \n",
      "2              L L Kianteny EM F   \n",
      "3        L EM EM L L Kianteny EM   \n",
      "4    L Kianteny EM EM L L EM F F   \n",
      "5       L Kianteny EM F F L EM F   \n",
      "6  L Kianteny EM F EM L F F F EM   \n",
      "7              L Kianteny EM F F   \n",
      "8                L Kianteny EM F   \n",
      "\n",
      "                                  Fehezanteny_tokens  \\\n",
      "0        [andriamanitra, dia, nahary, lanitra, tany]   \n",
      "1  [tany, dia, tsy, nisy, endrika, foana, aizina,...   \n",
      "2       [fanahin, andriamanitra, dia, nanomba, rano]   \n",
      "3  [andriamanitra, nanao, misia, mazava, mazava, ...   \n",
      "4  [andriamanitra, dia, nahita, mazava, andriaman...   \n",
      "5  [mazava, dia, nataon, andriamanitra, andro, ma...   \n",
      "6  [andriamanitra, dia, nanao, habakabakaka, ka, ...   \n",
      "7   [andriamanitra, dia, nanao, habakabaka, lanitra]   \n",
      "8                   [izy, dia, hitan, andriamanitra]   \n",
      "\n",
      "                           Firafitra_tokens  \n",
      "0                   [L, Kianteny, EM, F, F]  \n",
      "1        [L, Kianteny, EM, EM, F, F, L, EM]  \n",
      "2                   [L, L, Kianteny, EM, F]  \n",
      "3           [L, EM, EM, L, L, Kianteny, EM]  \n",
      "4     [L, Kianteny, EM, EM, L, L, EM, F, F]  \n",
      "5         [L, Kianteny, EM, F, F, L, EM, F]  \n",
      "6  [L, Kianteny, EM, F, EM, L, F, F, F, EM]  \n",
      "7                   [L, Kianteny, EM, F, F]  \n",
      "8                      [L, Kianteny, EM, F]  \n"
     ]
    }
   ],
   "source": [
    "print(df_md)"
   ]
  },
  {
   "cell_type": "markdown",
   "id": "27ac5840-1549-4e51-906f-84171381f92b",
   "metadata": {},
   "source": [
    "<h3>Préparation des données d'entrainement et de test</h3>"
   ]
  },
  {
   "cell_type": "markdown",
   "id": "e54ae976-82f7-420f-8322-3fcf33b453b6",
   "metadata": {},
   "source": [
    "<h4>Tso-drafitra</h4>"
   ]
  },
  {
   "cell_type": "code",
   "execution_count": 7,
   "id": "bd433cd7-32fc-444a-bcb4-e6cbcc780fd1",
   "metadata": {},
   "outputs": [],
   "source": [
    "# Étape 1 : Création des jeux de données d'entraînement et de test pour Tso-drafitra\n",
    "X_td = df_td['Fehezanteny_tokens'].values\n",
    "y_td = df_td['Firafitra_tokens'].values\n",
    "\n",
    "X_td_train, X_td_test, y_td_train, y_td_test = train_test_split(X_td, y_td, test_size=0.2, random_state=42)\n"
   ]
  },
  {
   "cell_type": "markdown",
   "id": "c71c8646-9022-4876-8d42-7e2b9bc42110",
   "metadata": {},
   "source": [
    "<h4>Mivadi-drafitra</h4>"
   ]
  },
  {
   "cell_type": "code",
   "execution_count": 8,
   "id": "d307e144-427f-4b7f-8968-44bb2c1cefd4",
   "metadata": {},
   "outputs": [],
   "source": [
    "# Étape 1 : Création des jeux de données d'entraînement et de test pour Mivadi-drafitra\n",
    "X_md = df_md['Fehezanteny_tokens'].values\n",
    "y_md = df_md['Firafitra_tokens'].values\n",
    "\n",
    "X_md_train, X_md_test, y_md_train, y_md_test = train_test_split(X_md, y_md, test_size=0.2, random_state=42)\n"
   ]
  },
  {
   "cell_type": "markdown",
   "id": "e4140e46-5d75-4aeb-92a6-a218f65f440d",
   "metadata": {},
   "source": [
    "<h3>Encodage des tokens et des étiquettes</h3>"
   ]
  },
  {
   "cell_type": "markdown",
   "id": "2e70541b-e272-4cc3-8c54-0bf8542b5e1d",
   "metadata": {},
   "source": [
    "<h4>Tso-drafitra</h4>"
   ]
  },
  {
   "cell_type": "code",
   "execution_count": 9,
   "id": "c47f046b-0c52-4648-a884-a47c103ba124",
   "metadata": {},
   "outputs": [],
   "source": [
    "# Étape 2-3 : Encodage des tokens et des étiquettes \"Tso-drafitra\"\n",
    "token_encoder_td = LabelEncoder()\n",
    "label_encoder_td = LabelEncoder()\n",
    "\n",
    "# Adapter les encodeurs aux données d'entraînement pour les tokens et les étiquettes\n",
    "token_encoder_td.fit(df_td['Fehezanteny_tokens'].explode())\n",
    "label_encoder_td.fit(df_td['Firafitra_tokens'].explode())\n",
    "\n",
    "# Fonction pour encoder une séquence de tokens\n",
    "def encode_sequence_td(seq, encoder):\n",
    "    return [encoder.transform([token])[0] for token in seq]\n",
    "\n",
    "# Encodage des séquences de tokens\n",
    "X_td_train_encoded = [encode_sequence_td(seq, token_encoder_td) for seq in X_td_train]\n",
    "X_td_test_encoded = [encode_sequence_td(seq, token_encoder_td) for seq in X_td_test]\n",
    "\n",
    "# Trouver la longueur maximale de séquence après l'encodage\n",
    "max_sequence_length_td = max(len(seq) for seq in X_td_train_encoded + X_td_test_encoded)\n",
    "\n",
    "# Remplissage des séquences\n",
    "X_td_train_padded = pad_sequences(X_td_train_encoded, maxlen=max_sequence_length_td, padding='post')\n",
    "X_td_test_padded = pad_sequences(X_td_test_encoded, maxlen=max_sequence_length_td, padding='post')\n",
    "\n",
    "# Encodage des étiquettes\n",
    "y_td_train_encoded = [encode_sequence_td(seq, label_encoder_td) for seq in y_td_train]\n",
    "y_td_test_encoded = [encode_sequence_td(seq, label_encoder_td) for seq in y_td_test]\n",
    "\n",
    "# Remplissage des étiquettes\n",
    "y_td_train_padded = pad_sequences(y_td_train_encoded, maxlen=max_sequence_length_td, padding='post')\n",
    "y_td_test_padded = pad_sequences(y_td_test_encoded, maxlen=max_sequence_length_td, padding='post')\n"
   ]
  },
  {
   "cell_type": "markdown",
   "id": "9cd8d609-6b89-4e32-bb48-a5d50f880f0c",
   "metadata": {},
   "source": [
    "<h4>Mivadi-drafitra</h4>"
   ]
  },
  {
   "cell_type": "code",
   "execution_count": 10,
   "id": "45f68367-bf2f-44dd-91ca-8d9898618654",
   "metadata": {},
   "outputs": [],
   "source": [
    "# Étape 2-3 : Encodage des tokens et des étiquettes \"Mivadi-drafitra\"\n",
    "token_encoder_md = LabelEncoder()\n",
    "label_encoder_md = LabelEncoder()\n",
    "\n",
    "# Adapter les encodeurs aux données d'entraînement pour les tokens et les étiquettes\n",
    "token_encoder_md.fit(df_md['Fehezanteny_tokens'].explode())\n",
    "label_encoder_md.fit(df_md['Firafitra_tokens'].explode())\n",
    "\n",
    "# Fonction pour encoder une séquence de tokens\n",
    "def encode_sequence_md(seq, encoder):\n",
    "    return [encoder.transform([token])[0] for token in seq]\n",
    "\n",
    "# Encodage des séquences de tokens\n",
    "X_md_train_encoded = [encode_sequence_md(seq, token_encoder_md) for seq in X_md_train]\n",
    "X_md_test_encoded = [encode_sequence_md(seq, token_encoder_md) for seq in X_md_test]\n",
    "\n",
    "# Trouver la longueur maximale de séquence après l'encodage\n",
    "max_sequence_length_md = max(len(seq) for seq in X_md_train_encoded + X_md_test_encoded)\n",
    "\n",
    "# Remplissage des séquences\n",
    "X_md_train_padded = pad_sequences(X_md_train_encoded, maxlen=max_sequence_length_md, padding='post')\n",
    "X_md_test_padded = pad_sequences(X_md_test_encoded, maxlen=max_sequence_length_md, padding='post')\n",
    "\n",
    "# Encodage des étiquettes\n",
    "y_md_train_encoded = [encode_sequence_md(seq, label_encoder_md) for seq in y_md_train]\n",
    "y_md_test_encoded = [encode_sequence_md(seq, label_encoder_md) for seq in y_md_test]\n",
    "\n",
    "# Remplissage des étiquettes\n",
    "y_md_train_padded = pad_sequences(y_md_train_encoded, maxlen=max_sequence_length_md, padding='post')\n",
    "y_md_test_padded = pad_sequences(y_md_test_encoded, maxlen=max_sequence_length_md, padding='post')\n"
   ]
  },
  {
   "cell_type": "markdown",
   "id": "e564058f-af8a-4ee9-80ad-11fb9043c365",
   "metadata": {},
   "source": [
    "<h3>Calcul des poids de classe inverses</h3>"
   ]
  },
  {
   "cell_type": "markdown",
   "id": "7b2327a3-77e8-4480-8c04-10488410e934",
   "metadata": {},
   "source": [
    "<h4>Tso-drafitra</h4>"
   ]
  },
  {
   "cell_type": "code",
   "execution_count": 11,
   "id": "0de22e37-efda-4d4d-98c0-4641aec1c740",
   "metadata": {},
   "outputs": [],
   "source": [
    "# Compter la fréquence des étiquettes dans les données d'entraînement\n",
    "label_freq_td = Counter(y_td_train_padded.flatten())\n",
    "\n",
    "# Calculer les poids de classe inverses en fonction de la fréquence\n",
    "total_samples_td = len(y_td_train_padded.flatten())\n",
    "class_weights_td = {cls: total_samples_td / label_freq_td[cls] for cls in label_freq_td}\n"
   ]
  },
  {
   "cell_type": "markdown",
   "id": "a3b919c3-020e-4d78-8dfc-007775adadc6",
   "metadata": {},
   "source": [
    "<h4>Mivadi-drafitra</h4>"
   ]
  },
  {
   "cell_type": "code",
   "execution_count": 12,
   "id": "65a013ec-7f52-4134-b276-6c6cc49b6882",
   "metadata": {},
   "outputs": [],
   "source": [
    "# Compter la fréquence des étiquettes dans les données d'entraînement\n",
    "label_freq_md = Counter(y_md_train_padded.flatten())\n",
    "\n",
    "# Calculer les poids de classe inverses en fonction de la fréquence\n",
    "total_samples_md = len(y_md_train_padded.flatten())\n",
    "class_weights_md = {cls: total_samples_md / label_freq_md[cls] for cls in label_freq_md}\n"
   ]
  },
  {
   "cell_type": "markdown",
   "id": "04d57842-d273-45ff-a702-91ee919b59cf",
   "metadata": {},
   "source": [
    "<h3>Création du modèle LSTM</h3>"
   ]
  },
  {
   "cell_type": "markdown",
   "id": "66f79ba1-7923-42c0-abab-888a93cfed96",
   "metadata": {},
   "source": [
    "<h4>Tso-drafitra</h4>"
   ]
  },
  {
   "cell_type": "code",
   "execution_count": 13,
   "id": "66af403c-069f-49b3-b4cb-e5fdb2448a7a",
   "metadata": {},
   "outputs": [],
   "source": [
    "# Création du modèle LSTM\n",
    "model_td = Sequential()\n",
    "model_td.add(Embedding(input_dim=len(token_encoder_td.classes_), output_dim=64, input_length=max_sequence_length_td))\n",
    "model_td.add(Bidirectional(LSTM(128, return_sequences=True))) # Retourne les séquences pour chaque token\n",
    "model_td.add(Dense(len(label_encoder_td.classes_), activation='softmax')) # Couche Dense pour chaque token\n",
    "\n",
    "# Compilation du modèle en utilisant sample_weight_mode\n",
    "model_td.compile(loss='sparse_categorical_crossentropy', optimizer='adam', metrics=['accuracy'], sample_weight_mode=class_weights_td)\n"
   ]
  },
  {
   "cell_type": "markdown",
   "id": "1f7b5c97-2035-4e5c-9782-2993dc4d6549",
   "metadata": {},
   "source": [
    "<h4>Mivadi-drafitra</h4>"
   ]
  },
  {
   "cell_type": "code",
   "execution_count": 14,
   "id": "d7849c6f-c1d3-429e-9727-172a5716b813",
   "metadata": {},
   "outputs": [],
   "source": [
    "# Création du modèle LSTM\n",
    "model_md = Sequential()\n",
    "model_md.add(Embedding(input_dim=len(token_encoder_md.classes_), output_dim=64, input_length=max_sequence_length_md))\n",
    "model_md.add(Bidirectional(LSTM(128, return_sequences=True))) # Retourne les séquences pour chaque token\n",
    "model_md.add(Dense(len(label_encoder_md.classes_), activation='softmax')) # Couche Dense pour chaque token\n",
    "\n",
    "# Compilation du modèle en utilisant sample_weight_mode\n",
    "model_md.compile(loss='sparse_categorical_crossentropy', optimizer='adam', metrics=['accuracy'], sample_weight_mode=class_weights_md)\n"
   ]
  },
  {
   "cell_type": "markdown",
   "id": "f3413890-42f0-447d-a132-f6505ab49dca",
   "metadata": {},
   "source": [
    "<h3>Entraînement du modèle</h3>"
   ]
  },
  {
   "cell_type": "markdown",
   "id": "7dd4f1e5-74ba-4734-b83f-9d538bb058f6",
   "metadata": {},
   "source": [
    "<h4>Tso-drafitra</h4>"
   ]
  },
  {
   "cell_type": "code",
   "execution_count": 15,
   "id": "25d581a4-24bd-47d2-828d-2450078ef6ca",
   "metadata": {
    "scrolled": true
   },
   "outputs": [
    {
     "name": "stdout",
     "output_type": "stream",
     "text": [
      "Epoch 1/50\n",
      "2/2 [==============================] - 13s 3s/step - loss: 1.0717 - accuracy: 0.8520 - val_loss: 0.9784 - val_accuracy: 0.8523\n",
      "Epoch 2/50\n",
      "2/2 [==============================] - 0s 187ms/step - loss: 0.9692 - accuracy: 0.8520 - val_loss: 0.8510 - val_accuracy: 0.8523\n",
      "Epoch 3/50\n",
      "2/2 [==============================] - 0s 236ms/step - loss: 0.8379 - accuracy: 0.8520 - val_loss: 0.6597 - val_accuracy: 0.8523\n",
      "Epoch 4/50\n",
      "2/2 [==============================] - 0s 188ms/step - loss: 0.6460 - accuracy: 0.8520 - val_loss: 0.4488 - val_accuracy: 0.8523\n",
      "Epoch 5/50\n",
      "2/2 [==============================] - 0s 233ms/step - loss: 0.4786 - accuracy: 0.8520 - val_loss: 0.3619 - val_accuracy: 0.8523\n",
      "Epoch 6/50\n",
      "2/2 [==============================] - 0s 222ms/step - loss: 0.3731 - accuracy: 0.8520 - val_loss: 0.3784 - val_accuracy: 0.8523\n",
      "Epoch 7/50\n",
      "2/2 [==============================] - 0s 226ms/step - loss: 0.3154 - accuracy: 0.8520 - val_loss: 0.4156 - val_accuracy: 0.8523\n",
      "Epoch 8/50\n",
      "2/2 [==============================] - 0s 190ms/step - loss: 0.2992 - accuracy: 0.8520 - val_loss: 0.4383 - val_accuracy: 0.8523\n",
      "Epoch 9/50\n",
      "2/2 [==============================] - 0s 170ms/step - loss: 0.2966 - accuracy: 0.8520 - val_loss: 0.4498 - val_accuracy: 0.8523\n",
      "Epoch 10/50\n",
      "2/2 [==============================] - 0s 228ms/step - loss: 0.2907 - accuracy: 0.8520 - val_loss: 0.4469 - val_accuracy: 0.8523\n",
      "Epoch 11/50\n",
      "2/2 [==============================] - 1s 471ms/step - loss: 0.2812 - accuracy: 0.8575 - val_loss: 0.4422 - val_accuracy: 0.8545\n",
      "Epoch 12/50\n",
      "2/2 [==============================] - 0s 217ms/step - loss: 0.2737 - accuracy: 0.8624 - val_loss: 0.4416 - val_accuracy: 0.8591\n",
      "Epoch 13/50\n",
      "2/2 [==============================] - 1s 224ms/step - loss: 0.2737 - accuracy: 0.8698 - val_loss: 0.4444 - val_accuracy: 0.8568\n",
      "Epoch 14/50\n",
      "2/2 [==============================] - 0s 189ms/step - loss: 0.2749 - accuracy: 0.8722 - val_loss: 0.4512 - val_accuracy: 0.8500\n",
      "Epoch 15/50\n",
      "2/2 [==============================] - 0s 224ms/step - loss: 0.2714 - accuracy: 0.8722 - val_loss: 0.4626 - val_accuracy: 0.8477\n",
      "Epoch 16/50\n",
      "2/2 [==============================] - 1s 285ms/step - loss: 0.2651 - accuracy: 0.8735 - val_loss: 0.4775 - val_accuracy: 0.8477\n",
      "Epoch 17/50\n",
      "2/2 [==============================] - 0s 250ms/step - loss: 0.2611 - accuracy: 0.8741 - val_loss: 0.4931 - val_accuracy: 0.8477\n",
      "Epoch 18/50\n",
      "2/2 [==============================] - 1s 519ms/step - loss: 0.2605 - accuracy: 0.8698 - val_loss: 0.5055 - val_accuracy: 0.8477\n",
      "Epoch 19/50\n",
      "2/2 [==============================] - 1s 332ms/step - loss: 0.2604 - accuracy: 0.8698 - val_loss: 0.5115 - val_accuracy: 0.8455\n",
      "Epoch 20/50\n",
      "2/2 [==============================] - 1s 348ms/step - loss: 0.2576 - accuracy: 0.8716 - val_loss: 0.5122 - val_accuracy: 0.8523\n",
      "Epoch 21/50\n",
      "2/2 [==============================] - 1s 422ms/step - loss: 0.2547 - accuracy: 0.8802 - val_loss: 0.5129 - val_accuracy: 0.8545\n",
      "Epoch 22/50\n",
      "2/2 [==============================] - 1s 253ms/step - loss: 0.2566 - accuracy: 0.8808 - val_loss: 0.5174 - val_accuracy: 0.8500\n",
      "Epoch 23/50\n",
      "2/2 [==============================] - 1s 223ms/step - loss: 0.2577 - accuracy: 0.8790 - val_loss: 0.5252 - val_accuracy: 0.8500\n",
      "Epoch 24/50\n",
      "2/2 [==============================] - 1s 299ms/step - loss: 0.2544 - accuracy: 0.8771 - val_loss: 0.5358 - val_accuracy: 0.8545\n",
      "Epoch 25/50\n",
      "2/2 [==============================] - 0s 187ms/step - loss: 0.2502 - accuracy: 0.8778 - val_loss: 0.5479 - val_accuracy: 0.8523\n",
      "Epoch 26/50\n",
      "2/2 [==============================] - 1s 271ms/step - loss: 0.2494 - accuracy: 0.8771 - val_loss: 0.5580 - val_accuracy: 0.8523\n",
      "Epoch 27/50\n",
      "2/2 [==============================] - 0s 184ms/step - loss: 0.2509 - accuracy: 0.8771 - val_loss: 0.5587 - val_accuracy: 0.8477\n",
      "Epoch 28/50\n",
      "2/2 [==============================] - 0s 216ms/step - loss: 0.2468 - accuracy: 0.8729 - val_loss: 0.5556 - val_accuracy: 0.8455\n",
      "Epoch 29/50\n",
      "2/2 [==============================] - 0s 181ms/step - loss: 0.2494 - accuracy: 0.8778 - val_loss: 0.5588 - val_accuracy: 0.8432\n",
      "Epoch 30/50\n",
      "2/2 [==============================] - 1s 393ms/step - loss: 0.2525 - accuracy: 0.8753 - val_loss: 0.5671 - val_accuracy: 0.8432\n",
      "Epoch 31/50\n",
      "2/2 [==============================] - 0s 218ms/step - loss: 0.2482 - accuracy: 0.8778 - val_loss: 0.5785 - val_accuracy: 0.8477\n",
      "Epoch 32/50\n",
      "2/2 [==============================] - 0s 220ms/step - loss: 0.2455 - accuracy: 0.8765 - val_loss: 0.5869 - val_accuracy: 0.8500\n",
      "Epoch 33/50\n",
      "2/2 [==============================] - 1s 254ms/step - loss: 0.2488 - accuracy: 0.8729 - val_loss: 0.5830 - val_accuracy: 0.8477\n",
      "Epoch 34/50\n",
      "2/2 [==============================] - 0s 201ms/step - loss: 0.2456 - accuracy: 0.8729 - val_loss: 0.5710 - val_accuracy: 0.8477\n",
      "Epoch 35/50\n",
      "2/2 [==============================] - 0s 206ms/step - loss: 0.2413 - accuracy: 0.8771 - val_loss: 0.5619 - val_accuracy: 0.8477\n",
      "Epoch 36/50\n",
      "2/2 [==============================] - 0s 177ms/step - loss: 0.2408 - accuracy: 0.8778 - val_loss: 0.5568 - val_accuracy: 0.8455\n",
      "Epoch 37/50\n",
      "2/2 [==============================] - 0s 228ms/step - loss: 0.2408 - accuracy: 0.8790 - val_loss: 0.5560 - val_accuracy: 0.8523\n",
      "Epoch 38/50\n",
      "2/2 [==============================] - 0s 183ms/step - loss: 0.2396 - accuracy: 0.8796 - val_loss: 0.5587 - val_accuracy: 0.8568\n",
      "Epoch 39/50\n",
      "2/2 [==============================] - 0s 186ms/step - loss: 0.2381 - accuracy: 0.8778 - val_loss: 0.5632 - val_accuracy: 0.8568\n",
      "Epoch 40/50\n",
      "2/2 [==============================] - 0s 181ms/step - loss: 0.2369 - accuracy: 0.8796 - val_loss: 0.5682 - val_accuracy: 0.8523\n",
      "Epoch 41/50\n",
      "2/2 [==============================] - 0s 178ms/step - loss: 0.2361 - accuracy: 0.8821 - val_loss: 0.5718 - val_accuracy: 0.8523\n",
      "Epoch 42/50\n",
      "2/2 [==============================] - 0s 185ms/step - loss: 0.2350 - accuracy: 0.8845 - val_loss: 0.5739 - val_accuracy: 0.8523\n",
      "Epoch 43/50\n",
      "2/2 [==============================] - 0s 228ms/step - loss: 0.2332 - accuracy: 0.8814 - val_loss: 0.5767 - val_accuracy: 0.8545\n",
      "Epoch 44/50\n",
      "2/2 [==============================] - 1s 287ms/step - loss: 0.2310 - accuracy: 0.8827 - val_loss: 0.5813 - val_accuracy: 0.8568\n",
      "Epoch 45/50\n",
      "2/2 [==============================] - 0s 240ms/step - loss: 0.2288 - accuracy: 0.8857 - val_loss: 0.5866 - val_accuracy: 0.8477\n",
      "Epoch 46/50\n",
      "2/2 [==============================] - 1s 286ms/step - loss: 0.2270 - accuracy: 0.8839 - val_loss: 0.5915 - val_accuracy: 0.8500\n",
      "Epoch 47/50\n",
      "2/2 [==============================] - 1s 339ms/step - loss: 0.2253 - accuracy: 0.8845 - val_loss: 0.5956 - val_accuracy: 0.8477\n",
      "Epoch 48/50\n",
      "2/2 [==============================] - 1s 333ms/step - loss: 0.2239 - accuracy: 0.8870 - val_loss: 0.6004 - val_accuracy: 0.8500\n",
      "Epoch 49/50\n",
      "2/2 [==============================] - 1s 583ms/step - loss: 0.2226 - accuracy: 0.8882 - val_loss: 0.6068 - val_accuracy: 0.8500\n",
      "Epoch 50/50\n",
      "2/2 [==============================] - 1s 462ms/step - loss: 0.2216 - accuracy: 0.8919 - val_loss: 0.6123 - val_accuracy: 0.8500\n"
     ]
    }
   ],
   "source": [
    "# Entraînement du modèle en utilisant les données d'entraînement et de validation \"Tso-drafitra\"\n",
    "# Récupérer l'historique de l'entraînement \"Tso-drafitra\"\n",
    "history_td = model_td.fit(X_td_train_padded, y_td_train_padded, epochs=50, batch_size=32, validation_data=(X_td_test_padded, y_td_test_padded))\n"
   ]
  },
  {
   "cell_type": "markdown",
   "id": "c4bd877b-ad05-4e8e-9d7a-bf0c7b668473",
   "metadata": {},
   "source": [
    "<h4>Mivadi-drafitra</h4>"
   ]
  },
  {
   "cell_type": "code",
   "execution_count": 16,
   "id": "717eafc6-89ff-4366-a23e-7ead633a2368",
   "metadata": {
    "scrolled": true
   },
   "outputs": [
    {
     "name": "stdout",
     "output_type": "stream",
     "text": [
      "Epoch 1/50\n",
      "1/1 [==============================] - 11s 11s/step - loss: 1.3883 - accuracy: 0.1429 - val_loss: 1.3691 - val_accuracy: 0.6538\n",
      "Epoch 2/50\n",
      "1/1 [==============================] - 0s 191ms/step - loss: 1.3696 - accuracy: 0.6484 - val_loss: 1.3485 - val_accuracy: 0.6538\n",
      "Epoch 3/50\n",
      "1/1 [==============================] - 0s 113ms/step - loss: 1.3510 - accuracy: 0.6264 - val_loss: 1.3272 - val_accuracy: 0.6538\n",
      "Epoch 4/50\n",
      "1/1 [==============================] - 0s 127ms/step - loss: 1.3316 - accuracy: 0.6264 - val_loss: 1.3045 - val_accuracy: 0.6538\n",
      "Epoch 5/50\n",
      "1/1 [==============================] - 0s 143ms/step - loss: 1.3108 - accuracy: 0.6264 - val_loss: 1.2795 - val_accuracy: 0.6538\n",
      "Epoch 6/50\n",
      "1/1 [==============================] - 0s 195ms/step - loss: 1.2878 - accuracy: 0.6264 - val_loss: 1.2515 - val_accuracy: 0.6538\n",
      "Epoch 7/50\n",
      "1/1 [==============================] - 0s 147ms/step - loss: 1.2618 - accuracy: 0.6264 - val_loss: 1.2198 - val_accuracy: 0.6538\n",
      "Epoch 8/50\n",
      "1/1 [==============================] - 0s 141ms/step - loss: 1.2320 - accuracy: 0.6264 - val_loss: 1.1837 - val_accuracy: 0.6538\n",
      "Epoch 9/50\n",
      "1/1 [==============================] - 0s 128ms/step - loss: 1.1977 - accuracy: 0.6264 - val_loss: 1.1428 - val_accuracy: 0.6538\n",
      "Epoch 10/50\n",
      "1/1 [==============================] - 0s 118ms/step - loss: 1.1582 - accuracy: 0.6264 - val_loss: 1.0970 - val_accuracy: 0.6538\n",
      "Epoch 11/50\n",
      "1/1 [==============================] - 0s 108ms/step - loss: 1.1133 - accuracy: 0.6264 - val_loss: 1.0475 - val_accuracy: 0.6538\n",
      "Epoch 12/50\n",
      "1/1 [==============================] - 0s 123ms/step - loss: 1.0637 - accuracy: 0.6264 - val_loss: 0.9966 - val_accuracy: 0.6538\n",
      "Epoch 13/50\n",
      "1/1 [==============================] - 0s 115ms/step - loss: 1.0112 - accuracy: 0.6264 - val_loss: 0.9458 - val_accuracy: 0.6538\n",
      "Epoch 14/50\n",
      "1/1 [==============================] - 0s 130ms/step - loss: 0.9581 - accuracy: 0.6264 - val_loss: 0.8958 - val_accuracy: 0.6538\n",
      "Epoch 15/50\n",
      "1/1 [==============================] - 0s 121ms/step - loss: 0.9073 - accuracy: 0.6264 - val_loss: 0.8510 - val_accuracy: 0.6538\n",
      "Epoch 16/50\n",
      "1/1 [==============================] - 0s 116ms/step - loss: 0.8656 - accuracy: 0.6264 - val_loss: 0.8171 - val_accuracy: 0.6538\n",
      "Epoch 17/50\n",
      "1/1 [==============================] - 0s 139ms/step - loss: 0.8405 - accuracy: 0.6264 - val_loss: 0.7949 - val_accuracy: 0.6538\n",
      "Epoch 18/50\n",
      "1/1 [==============================] - 0s 115ms/step - loss: 0.8321 - accuracy: 0.6264 - val_loss: 0.7805 - val_accuracy: 0.6538\n",
      "Epoch 19/50\n",
      "1/1 [==============================] - 0s 124ms/step - loss: 0.8317 - accuracy: 0.6374 - val_loss: 0.7698 - val_accuracy: 0.7308\n",
      "Epoch 20/50\n",
      "1/1 [==============================] - 0s 111ms/step - loss: 0.8303 - accuracy: 0.6923 - val_loss: 0.7605 - val_accuracy: 0.7308\n",
      "Epoch 21/50\n",
      "1/1 [==============================] - 0s 119ms/step - loss: 0.8233 - accuracy: 0.6923 - val_loss: 0.7518 - val_accuracy: 0.7308\n",
      "Epoch 22/50\n",
      "1/1 [==============================] - 0s 147ms/step - loss: 0.8105 - accuracy: 0.6923 - val_loss: 0.7443 - val_accuracy: 0.6923\n",
      "Epoch 23/50\n",
      "1/1 [==============================] - 0s 121ms/step - loss: 0.7944 - accuracy: 0.6703 - val_loss: 0.7385 - val_accuracy: 0.6538\n",
      "Epoch 24/50\n",
      "1/1 [==============================] - 0s 131ms/step - loss: 0.7780 - accuracy: 0.6593 - val_loss: 0.7350 - val_accuracy: 0.6538\n",
      "Epoch 25/50\n",
      "1/1 [==============================] - 0s 110ms/step - loss: 0.7639 - accuracy: 0.6484 - val_loss: 0.7337 - val_accuracy: 0.6538\n",
      "Epoch 26/50\n",
      "1/1 [==============================] - 0s 103ms/step - loss: 0.7537 - accuracy: 0.6484 - val_loss: 0.7340 - val_accuracy: 0.6154\n",
      "Epoch 27/50\n",
      "1/1 [==============================] - 0s 113ms/step - loss: 0.7474 - accuracy: 0.6374 - val_loss: 0.7348 - val_accuracy: 0.6154\n",
      "Epoch 28/50\n",
      "1/1 [==============================] - 0s 127ms/step - loss: 0.7440 - accuracy: 0.6484 - val_loss: 0.7349 - val_accuracy: 0.6154\n",
      "Epoch 29/50\n",
      "1/1 [==============================] - 0s 121ms/step - loss: 0.7417 - accuracy: 0.6484 - val_loss: 0.7336 - val_accuracy: 0.6154\n",
      "Epoch 30/50\n",
      "1/1 [==============================] - 0s 121ms/step - loss: 0.7388 - accuracy: 0.6593 - val_loss: 0.7305 - val_accuracy: 0.6154\n",
      "Epoch 31/50\n",
      "1/1 [==============================] - 0s 127ms/step - loss: 0.7340 - accuracy: 0.6484 - val_loss: 0.7258 - val_accuracy: 0.6538\n",
      "Epoch 32/50\n",
      "1/1 [==============================] - 0s 124ms/step - loss: 0.7270 - accuracy: 0.6593 - val_loss: 0.7204 - val_accuracy: 0.6538\n",
      "Epoch 33/50\n",
      "1/1 [==============================] - 0s 149ms/step - loss: 0.7184 - accuracy: 0.6593 - val_loss: 0.7151 - val_accuracy: 0.6538\n",
      "Epoch 34/50\n",
      "1/1 [==============================] - 0s 146ms/step - loss: 0.7090 - accuracy: 0.6703 - val_loss: 0.7111 - val_accuracy: 0.6538\n",
      "Epoch 35/50\n",
      "1/1 [==============================] - 0s 186ms/step - loss: 0.6999 - accuracy: 0.6703 - val_loss: 0.7090 - val_accuracy: 0.6538\n",
      "Epoch 36/50\n",
      "1/1 [==============================] - 0s 154ms/step - loss: 0.6921 - accuracy: 0.6703 - val_loss: 0.7092 - val_accuracy: 0.6538\n",
      "Epoch 37/50\n",
      "1/1 [==============================] - 0s 137ms/step - loss: 0.6857 - accuracy: 0.6813 - val_loss: 0.7114 - val_accuracy: 0.6538\n",
      "Epoch 38/50\n",
      "1/1 [==============================] - 0s 133ms/step - loss: 0.6806 - accuracy: 0.6813 - val_loss: 0.7152 - val_accuracy: 0.6538\n",
      "Epoch 39/50\n",
      "1/1 [==============================] - 0s 129ms/step - loss: 0.6759 - accuracy: 0.6813 - val_loss: 0.7203 - val_accuracy: 0.6538\n",
      "Epoch 40/50\n",
      "1/1 [==============================] - 0s 132ms/step - loss: 0.6710 - accuracy: 0.6703 - val_loss: 0.7262 - val_accuracy: 0.6538\n",
      "Epoch 41/50\n",
      "1/1 [==============================] - 0s 124ms/step - loss: 0.6659 - accuracy: 0.6593 - val_loss: 0.7325 - val_accuracy: 0.6538\n",
      "Epoch 42/50\n",
      "1/1 [==============================] - 0s 129ms/step - loss: 0.6609 - accuracy: 0.6593 - val_loss: 0.7369 - val_accuracy: 0.6538\n",
      "Epoch 43/50\n",
      "1/1 [==============================] - 0s 130ms/step - loss: 0.6558 - accuracy: 0.6593 - val_loss: 0.7371 - val_accuracy: 0.6538\n",
      "Epoch 44/50\n",
      "1/1 [==============================] - 0s 144ms/step - loss: 0.6499 - accuracy: 0.6593 - val_loss: 0.7339 - val_accuracy: 0.6538\n",
      "Epoch 45/50\n",
      "1/1 [==============================] - 0s 137ms/step - loss: 0.6436 - accuracy: 0.6593 - val_loss: 0.7306 - val_accuracy: 0.6923\n",
      "Epoch 46/50\n",
      "1/1 [==============================] - 0s 117ms/step - loss: 0.6386 - accuracy: 0.6703 - val_loss: 0.7300 - val_accuracy: 0.6923\n",
      "Epoch 47/50\n",
      "1/1 [==============================] - 0s 113ms/step - loss: 0.6352 - accuracy: 0.6703 - val_loss: 0.7322 - val_accuracy: 0.6923\n",
      "Epoch 48/50\n",
      "1/1 [==============================] - 0s 104ms/step - loss: 0.6315 - accuracy: 0.6813 - val_loss: 0.7366 - val_accuracy: 0.6923\n",
      "Epoch 49/50\n",
      "1/1 [==============================] - 0s 115ms/step - loss: 0.6262 - accuracy: 0.6813 - val_loss: 0.7440 - val_accuracy: 0.6923\n",
      "Epoch 50/50\n",
      "1/1 [==============================] - 0s 138ms/step - loss: 0.6197 - accuracy: 0.6813 - val_loss: 0.7550 - val_accuracy: 0.6923\n"
     ]
    }
   ],
   "source": [
    "# Entraînement du modèle en utilisant les données d'entraînement et de validation \"Tso-drafitra\"\n",
    "# Récupérer l'historique de l'entraînement \"Tso-drafitra\"\n",
    "history_md = model_md.fit(X_md_train_padded, y_md_train_padded, epochs=50, batch_size=32, validation_data=(X_md_test_padded, y_md_test_padded))\n"
   ]
  },
  {
   "cell_type": "markdown",
   "id": "3fbb3151-1b35-41b2-8f6e-fbeb09acf7d5",
   "metadata": {},
   "source": [
    "<h3>Visualiation</h3>"
   ]
  },
  {
   "cell_type": "markdown",
   "id": "9dae1c77-df00-4151-9696-0a89fbdad3b5",
   "metadata": {},
   "source": [
    "<h4>Tso-drafitra</h4>"
   ]
  },
  {
   "cell_type": "code",
   "execution_count": 17,
   "id": "ac4d4489-1e19-4009-91d5-9f949e2dcc30",
   "metadata": {},
   "outputs": [
    {
     "data": {
      "image/png": "[encoded data removed]",
      "text/plain": [
       "<Figure size 1000x500 with 2 Axes>"
      ]
     },
     "metadata": {},
     "output_type": "display_data"
    }
   ],
   "source": [
    "import matplotlib.pyplot as plt\n",
    "\n",
    "# Extraire les valeurs de précision et de perte de l'entraînement et de la validation\n",
    "td_train_loss = history_td.history['loss']\n",
    "td_val_loss = history_td.history['val_loss']\n",
    "td_train_accuracy = history_td.history['accuracy']\n",
    "td_val_accuracy = history_td.history['val_accuracy']\n",
    "td_epochs = range(1, len(td_train_loss) + 1)\n",
    "\n",
    "# Tracer les courbes de perte\n",
    "plt.figure(figsize=(10, 5))\n",
    "plt.subplot(1, 2, 1)\n",
    "plt.plot(td_epochs, td_train_loss, 'g', label='Perte entraînement Tso-drafitra')\n",
    "plt.plot(td_epochs, td_val_loss, 'b', label='Perte validation Tso-drafitra')\n",
    "plt.title('Courbes de perte Tso-drafitra')\n",
    "plt.xlabel('Epochs')\n",
    "plt.ylabel('Perte')\n",
    "plt.legend()\n",
    "\n",
    "# Tracer les courbes de précision\n",
    "plt.subplot(1, 2, 2)\n",
    "plt.plot(td_epochs, td_train_accuracy, 'g', label='Précision entraînement Tso-drafitra')\n",
    "plt.plot(td_epochs, td_val_accuracy, 'b', label='Précision validation Tso-drafitra')\n",
    "plt.title('Courbes de précision Tso-drafitra')\n",
    "plt.xlabel('Epochs')\n",
    "plt.ylabel('Précision')\n",
    "plt.legend()\n",
    "\n",
    "plt.tight_layout()\n",
    "plt.show()\n"
   ]
  },
  {
   "cell_type": "markdown",
   "id": "6ab57c25-026e-4a16-b7c3-216de2fc1c3e",
   "metadata": {},
   "source": [
    "<h4>Mivadi-drafitra</h4>"
   ]
  },
  {
   "cell_type": "code",
   "execution_count": 18,
   "id": "8ebcc289-3c21-481d-a466-7ad94011fac2",
   "metadata": {},
   "outputs": [
    {
     "data": {
      "image/png": "[encoded data removed]",
      "text/plain": [
       "<Figure size 1000x500 with 2 Axes>"
      ]
     },
     "metadata": {},
     "output_type": "display_data"
    }
   ],
   "source": [
    "import matplotlib.pyplot as plt\n",
    "\n",
    "# Extraire les valeurs de précision et de perte de l'entraînement et de la validation\n",
    "md_train_loss = history_md.history['loss']\n",
    "md_val_loss = history_md.history['val_loss']\n",
    "md_train_accuracy = history_md.history['accuracy']\n",
    "md_val_accuracy = history_md.history['val_accuracy']\n",
    "md_epochs = range(1, len(md_train_loss) + 1)\n",
    "\n",
    "# Tracer les courbes de perte\n",
    "plt.figure(figsize=(10, 5))\n",
    "plt.subplot(1, 2, 1)\n",
    "plt.plot(md_epochs, md_train_loss, 'g', label='Perte entraînement Mivadi-drafitra')\n",
    "plt.plot(md_epochs, md_val_loss, 'b', label='Perte validation Mivadi-drafitra')\n",
    "plt.title('Courbes de perte Mivadi-drafitra')\n",
    "plt.xlabel('Epochs')\n",
    "plt.ylabel('Perte')\n",
    "plt.legend()\n",
    "\n",
    "# Tracer les courbes de précision\n",
    "plt.subplot(1, 2, 2)\n",
    "plt.plot(md_epochs, md_train_accuracy, 'g', label='Précision entraînement Mivadi-drafitra')\n",
    "plt.plot(md_epochs, md_val_accuracy, 'b', label='Précision validation Mivadi-drafitra')\n",
    "plt.title('Courbes de précision Mivadi-drafitra')\n",
    "plt.xlabel('Epochs')\n",
    "plt.ylabel('Précision')\n",
    "plt.legend()\n",
    "\n",
    "plt.tight_layout()\n",
    "plt.show()\n"
   ]
  },
  {
   "cell_type": "markdown",
   "id": "d83b9619-c9f6-444e-aedc-0d31fd786366",
   "metadata": {},
   "source": [
    "<h3>Évaluation du modèle</h3>"
   ]
  },
  {
   "cell_type": "markdown",
   "id": "b910e1d6-d837-456b-9db1-414c9c12d1b1",
   "metadata": {},
   "source": [
    "<h4>Tso-drafitra</h4>"
   ]
  },
  {
   "cell_type": "code",
   "execution_count": 19,
   "id": "f0ca895d-3822-40bb-854c-f3df2f29788c",
   "metadata": {},
   "outputs": [
    {
     "name": "stdout",
     "output_type": "stream",
     "text": [
      "1/1 [==============================] - 0s 69ms/step - loss: 0.6123 - accuracy: 0.8500\n",
      "Perte (Loss) sur les données de test : 0.6122863292694092\n",
      "Précision (Accuracy) sur les données de test : 0.8500000238418579\n",
      "Test accuracy: 85.00%\n"
     ]
    }
   ],
   "source": [
    "# Évaluation du modèle sur les données de test\n",
    "td_loss, td_accuracy = model_td.evaluate(X_td_test_padded, y_td_test_padded)\n",
    "# Affichage des résultats\n",
    "print(f\"Perte (Loss) sur les données de test : {td_loss}\")\n",
    "print(f\"Précision (Accuracy) sur les données de test : {td_accuracy}\")\n",
    "print(f\"Test accuracy: {td_accuracy * 100:.2f}%\")\n"
   ]
  },
  {
   "cell_type": "markdown",
   "id": "70d9288d-08da-4ec9-bfb6-bd7dfd20fef6",
   "metadata": {},
   "source": [
    "<h4>Mivadi-drafitra</h4>"
   ]
  },
  {
   "cell_type": "code",
   "execution_count": 20,
   "id": "4f8f1254-82ed-476a-bcff-0e419bc4d772",
   "metadata": {},
   "outputs": [
    {
     "name": "stdout",
     "output_type": "stream",
     "text": [
      "1/1 [==============================] - 0s 47ms/step - loss: 0.7550 - accuracy: 0.6923\n",
      "Perte (Loss) sur les données de test : 0.7550478577613831\n",
      "Précision (Accuracy) sur les données de test : 0.692307710647583\n",
      "Test accuracy: 69.23%\n"
     ]
    }
   ],
   "source": [
    "# Évaluation du modèle sur les données de test\n",
    "md_loss, md_accuracy = model_md.evaluate(X_md_test_padded, y_md_test_padded)\n",
    "# Affichage des résultats\n",
    "print(f\"Perte (Loss) sur les données de test : {md_loss}\")\n",
    "print(f\"Précision (Accuracy) sur les données de test : {md_accuracy}\")\n",
    "print(f\"Test accuracy: {md_accuracy * 100:.2f}%\")\n"
   ]
  },
  {
   "cell_type": "markdown",
   "id": "41e0c75a-4f2d-42ca-92ee-1ca28ac36527",
   "metadata": {},
   "source": [
    "<h3>F1-score</h3>"
   ]
  },
  {
   "cell_type": "markdown",
   "id": "6cbde5be-ba1c-4926-bba4-6249b64a9299",
   "metadata": {},
   "source": [
    "<h4>Tso-drafitra</h4>"
   ]
  },
  {
   "cell_type": "code",
   "execution_count": 21,
   "id": "e7737cae-da03-45ea-a2a4-24708648de8f",
   "metadata": {},
   "outputs": [
    {
     "name": "stdout",
     "output_type": "stream",
     "text": [
      "1/1 [==============================] - 2s 2s/step\n",
      "F1-score : 0.8241086202843378\n",
      "Matrice de confusion TD:\n",
      "[[358  16   1]\n",
      " [  8  15   0]\n",
      " [ 24  17   1]]\n"
     ]
    }
   ],
   "source": [
    "# Étape 9 : Autres métriques d'évaluation (F1-score, matrice de confusion, etc.)\n",
    "# Vous pouvez également calculer d'autres métriques d'évaluation comme le F1-score, la matrice de confusion, etc.\n",
    "\n",
    "from sklearn.metrics import f1_score, confusion_matrix\n",
    "\n",
    "# Prédictions du modèle sur les données de test\n",
    "predictions_td = model_td.predict(X_td_test_padded)\n",
    "predicted_labels_td = np.argmax(predictions_td, axis=-1)\n",
    "\n",
    "# Calcul du F1-score\n",
    "f1_td = f1_score(y_td_test_padded.flatten(), predicted_labels_td.flatten(), average='weighted')\n",
    "print(f\"F1-score : {f1_td}\")\n",
    "\n",
    "# Calcul de la matrice de confusion\n",
    "confusion_td = confusion_matrix(y_td_test_padded.flatten(), predicted_labels_td.flatten())\n",
    "print(\"Matrice de confusion TD:\")\n",
    "print(confusion_td)\n"
   ]
  },
  {
   "cell_type": "markdown",
   "id": "6f196d85-50f6-4936-a3a0-cd5b45721081",
   "metadata": {},
   "source": [
    "<h4>Mivadi-drafitra</h4>"
   ]
  },
  {
   "cell_type": "code",
   "execution_count": 22,
   "id": "077ec329-8293-4e25-b755-7b55e27d86da",
   "metadata": {},
   "outputs": [
    {
     "name": "stdout",
     "output_type": "stream",
     "text": [
      "1/1 [==============================] - 2s 2s/step\n",
      "F1-score : 0.6576923076923076\n",
      "Matrice de confusion TD:\n",
      "[[15  0  0  2]\n",
      " [ 3  1  0  0]\n",
      " [ 0  0  0  2]\n",
      " [ 1  0  0  2]]\n"
     ]
    }
   ],
   "source": [
    "# Étape 9 : Autres métriques d'évaluation (F1-score, matrice de confusion, etc.)\n",
    "# Vous pouvez également calculer d'autres métriques d'évaluation comme le F1-score, la matrice de confusion, etc.\n",
    "\n",
    "from sklearn.metrics import f1_score, confusion_matrix\n",
    "\n",
    "# Prédictions du modèle sur les données de test\n",
    "predictions_md = model_md.predict(X_md_test_padded)\n",
    "predicted_labels_md = np.argmax(predictions_md, axis=-1)\n",
    "\n",
    "# Calcul du F1-score\n",
    "f1_md = f1_score(y_md_test_padded.flatten(), predicted_labels_md.flatten(), average='weighted')\n",
    "print(f\"F1-score : {f1_md}\")\n",
    "\n",
    "# Calcul de la matrice de confusion\n",
    "confusion_md = confusion_matrix(y_md_test_padded.flatten(), predicted_labels_md.flatten())\n",
    "print(\"Matrice de confusion TD:\")\n",
    "print(confusion_md)\n"
   ]
  },
  {
   "cell_type": "markdown",
   "id": "7ceeff91-bfad-4002-9ba3-196861d0374e",
   "metadata": {},
   "source": [
    "<h4>Tso-drafitra</h4>"
   ]
  },
  {
   "cell_type": "code",
   "execution_count": 23,
   "id": "99239d4f-031e-4d66-af3e-dba94dcd8326",
   "metadata": {},
   "outputs": [
    {
     "name": "stdout",
     "output_type": "stream",
     "text": [
      "1/1 [==============================] - 0s 69ms/step\n",
      "F1-score: 0.8241086202843378\n"
     ]
    }
   ],
   "source": [
    "from sklearn.metrics import f1_score\n",
    "\n",
    "# Prédictions du modèle\n",
    "predictions_td = model_td.predict(X_td_test_padded)\n",
    "predicted_labels_td = np.argmax(predictions_td, axis=-1)\n",
    "\n",
    "# Calcul du F1-score\n",
    "f1_td = f1_score(y_td_test_padded.flatten(), predicted_labels_td.flatten(), average='weighted')\n",
    "print(f\"F1-score: {f1_td}\")\n"
   ]
  },
  {
   "cell_type": "markdown",
   "id": "28081283-fa31-4e7b-9a74-af4728b147d2",
   "metadata": {},
   "source": [
    "<h4>Mivadi-drafitra</h4>"
   ]
  },
  {
   "cell_type": "code",
   "execution_count": 24,
   "id": "86d0e331-c7a5-4237-bba8-fb311bdb9c42",
   "metadata": {},
   "outputs": [
    {
     "name": "stdout",
     "output_type": "stream",
     "text": [
      "1/1 [==============================] - 0s 65ms/step\n",
      "F1-score: 0.6576923076923076\n"
     ]
    }
   ],
   "source": [
    "from sklearn.metrics import f1_score\n",
    "\n",
    "# Prédictions du modèle\n",
    "predictions_md = model_md.predict(X_md_test_padded)\n",
    "predicted_labels_md = np.argmax(predictions_md, axis=-1)\n",
    "\n",
    "# Calcul du F1-score\n",
    "f1_md = f1_score(y_md_test_padded.flatten(), predicted_labels_md.flatten(), average='weighted')\n",
    "print(f\"F1-score: {f1_md}\")\n"
   ]
  },
  {
   "cell_type": "markdown",
   "id": "5c6b4445-36d2-4f76-b91e-65eee18161c1",
   "metadata": {},
   "source": [
    "<h3>Prédictions sur de nouvelles phrases</h3>"
   ]
  },
  {
   "cell_type": "code",
   "execution_count": 25,
   "id": "eba50a22-67c5-4603-aec7-31f3cf384414",
   "metadata": {},
   "outputs": [],
   "source": [
    "# Prédiction sur de nouvelles phrases\n",
    "nouvelles_phrases = [\n",
    "    \"Hitan'Andriamanitra fa tsara.\",\n",
    "    \"Tsara izany.\"\n",
    "    #\"Tsara ny nanao izao tany izao.\"\n",
    "    # Ajoutez autant de phrases que vous le souhaitez ici\n",
    "]\n"
   ]
  },
  {
   "cell_type": "markdown",
   "id": "fae26617-8091-46fe-a1db-f3e5e141a787",
   "metadata": {},
   "source": [
    "<h4>Prediction Postag + Structure Phrase</h4>"
   ]
  },
  {
   "cell_type": "code",
   "execution_count": 26,
   "id": "c3c98e74-4aa1-4359-9a69-204db13fc297",
   "metadata": {
    "scrolled": true
   },
   "outputs": [
    {
     "name": "stdout",
     "output_type": "stream",
     "text": [
      "1/1 [==============================] - 2s 2s/step\n",
      "1/1 [==============================] - 0s 49ms/step\n"
     ]
    },
    {
     "name": "stderr",
     "output_type": "stream",
     "text": [
      "/home/vatosoa/anaconda3/lib/python3.11/site-packages/sklearn/preprocessing/_label.py:155: DataConversionWarning: A column-vector y was passed when a 1d array was expected. Please change the shape of y to (n_samples, ), for example using ravel().\n",
      "  y = column_or_1d(y, warn=True)\n",
      "/home/vatosoa/anaconda3/lib/python3.11/site-packages/sklearn/preprocessing/_label.py:155: DataConversionWarning: A column-vector y was passed when a 1d array was expected. Please change the shape of y to (n_samples, ), for example using ravel().\n",
      "  y = column_or_1d(y, warn=True)\n"
     ]
    },
    {
     "name": "stdout",
     "output_type": "stream",
     "text": [
      "1/1 [==============================] - 0s 51ms/step\n",
      "1/1 [==============================] - 0s 44ms/step\n"
     ]
    },
    {
     "name": "stderr",
     "output_type": "stream",
     "text": [
      "/home/vatosoa/anaconda3/lib/python3.11/site-packages/sklearn/preprocessing/_label.py:155: DataConversionWarning: A column-vector y was passed when a 1d array was expected. Please change the shape of y to (n_samples, ), for example using ravel().\n",
      "  y = column_or_1d(y, warn=True)\n",
      "/home/vatosoa/anaconda3/lib/python3.11/site-packages/sklearn/preprocessing/_label.py:155: DataConversionWarning: A column-vector y was passed when a 1d array was expected. Please change the shape of y to (n_samples, ), for example using ravel().\n",
      "  y = column_or_1d(y, warn=True)\n"
     ]
    },
    {
     "name": "stdout",
     "output_type": "stream",
     "text": [
      "1/1 [==============================] - 0s 58ms/step\n",
      "1/1 [==============================] - 0s 37ms/step\n",
      "Phrase : Izy dia hitan'Andriamanitra fa tsara.\n",
      "Tokens de la phrase: ['izy', 'dia', 'hitan', 'andriamanitra', 'fa', 'tsara']\n",
      "Prédictions pour chaque token: ['Mpisolo', 'Kianteny', 'Matoanteny', 'Anarana', 'Tambinteny', 'Mpamaritra']\n",
      "Structure de la phrase: Mivadi-drafitra \n"
     ]
    },
    {
     "name": "stderr",
     "output_type": "stream",
     "text": [
      "/home/vatosoa/anaconda3/lib/python3.11/site-packages/sklearn/preprocessing/_label.py:155: DataConversionWarning: A column-vector y was passed when a 1d array was expected. Please change the shape of y to (n_samples, ), for example using ravel().\n",
      "  y = column_or_1d(y, warn=True)\n",
      "/home/vatosoa/anaconda3/lib/python3.11/site-packages/sklearn/preprocessing/_label.py:155: DataConversionWarning: A column-vector y was passed when a 1d array was expected. Please change the shape of y to (n_samples, ), for example using ravel().\n",
      "  y = column_or_1d(y, warn=True)\n"
     ]
    }
   ],
   "source": [
    "#nouvelle_phrase = input(\"Entrer la phrase: \") \n",
    "#prediction postag + structure phrase\n",
    "nouvelle_phrase = \"Izy dia hitan'Andriamanitra fa tsara.\"\n",
    "\n",
    "import joblib\n",
    "model_pos = load_model('/home/vatosoa/mg-smart-lingua-discover/data/models/model-mg-postag.h5')\n",
    "# Chargement des encodeurs\n",
    "token_encoder_pos = joblib.load('/home/vatosoa/mg-smart-lingua-discover/data/pretraining/mg-postag/token_encoder.joblib')\n",
    "label_encoder_pos = joblib.load('/home/vatosoa/mg-smart-lingua-discover/data/pretraining/mg-postag/label_encoder.joblib')  \n",
    "\n",
    "def tokenize_words_pos(text):\n",
    "    if isinstance(text, str):\n",
    "        text = re.sub(r'[-;:()?!,.\\'\"\\/|]', ' ', text)\n",
    "        tokens = nltk.word_tokenize(text)\n",
    "        tokens = [token.lower() for token in tokens if token.isalnum()]\n",
    "        return tokens\n",
    "    else:\n",
    "        return []\n",
    "\n",
    "tokens_pos = tokenize_words_pos(nouvelle_phrase)\n",
    "predictions_tokens_pos = []\n",
    "\n",
    "for i, token in enumerate(tokens_pos):\n",
    "    token_encoded_pos = token_encoder_pos.transform([token])[0]\n",
    "    token_padded_pos = pad_sequences([[token_encoded_pos]], maxlen=1, padding='post')\n",
    "    prediction_token_pos = model_pos.predict(token_padded_pos)\n",
    "    decoded_token_pos = label_encoder_pos.inverse_transform(np.argmax(prediction_token_pos, axis=-1))\n",
    "    # condition pour \"dia\"\n",
    "    if token.lower() == 'dia':\n",
    "        if i == 0 or i >= 2:\n",
    "            predictions_tokens_pos.append('Mpampitohy')\n",
    "        else:\n",
    "            predictions_tokens_pos.append('Kianteny')\n",
    "    else:\n",
    "        predictions_tokens_pos.append(decoded_token_pos[0]) \n",
    "\n",
    "    if \"dia\" in tokens_pos and \"Kianteny\" in predictions_tokens_pos:\n",
    "        structure_prediction = \"Mivadi-drafitra\"\n",
    "    else:\n",
    "        structure_prediction = \"Tso-drafitra\"\n",
    "            \n",
    "print(f\"Phrase : {nouvelle_phrase}\")\n",
    "print(f\"Tokens de la phrase: {tokens_pos}\")\n",
    "print(f\"Prédictions pour chaque token: {predictions_tokens_pos}\")\n",
    "print(f\"Structure de la phrase: {structure_prediction} \")\n"
   ]
  },
  {
   "cell_type": "markdown",
   "id": "29014aa3-d855-424a-89c4-67157b15f247",
   "metadata": {},
   "source": [
    "<h4>Prediction VOS Structure</h4>"
   ]
  },
  {
   "cell_type": "code",
   "execution_count": 27,
   "id": "3f666631-1c09-44d1-bf7c-e97be6f5c0b0",
   "metadata": {},
   "outputs": [
    {
     "name": "stdout",
     "output_type": "stream",
     "text": [
      "1/1 [==============================] - 2s 2s/step\n"
     ]
    },
    {
     "name": "stderr",
     "output_type": "stream",
     "text": [
      "/home/vatosoa/anaconda3/lib/python3.11/site-packages/sklearn/preprocessing/_label.py:155: DataConversionWarning: A column-vector y was passed when a 1d array was expected. Please change the shape of y to (n_samples, ), for example using ravel().\n",
      "  y = column_or_1d(y, warn=True)\n"
     ]
    },
    {
     "name": "stdout",
     "output_type": "stream",
     "text": [
      "1/1 [==============================] - 0s 120ms/step\n"
     ]
    },
    {
     "name": "stderr",
     "output_type": "stream",
     "text": [
      "/home/vatosoa/anaconda3/lib/python3.11/site-packages/sklearn/preprocessing/_label.py:155: DataConversionWarning: A column-vector y was passed when a 1d array was expected. Please change the shape of y to (n_samples, ), for example using ravel().\n",
      "  y = column_or_1d(y, warn=True)\n"
     ]
    },
    {
     "name": "stdout",
     "output_type": "stream",
     "text": [
      "1/1 [==============================] - 0s 105ms/step\n",
      "1/1 [==============================] - 0s 70ms/step\n"
     ]
    },
    {
     "name": "stderr",
     "output_type": "stream",
     "text": [
      "/home/vatosoa/anaconda3/lib/python3.11/site-packages/sklearn/preprocessing/_label.py:155: DataConversionWarning: A column-vector y was passed when a 1d array was expected. Please change the shape of y to (n_samples, ), for example using ravel().\n",
      "  y = column_or_1d(y, warn=True)\n"
     ]
    },
    {
     "name": "stdout",
     "output_type": "stream",
     "text": [
      "Prédictions pour Mivadi-drafitra:\n",
      "Tokens de la phrase: ['izy', 'dia', 'hitan', 'andriamanitra']\n",
      "Prédictions pour chaque token: ['EM', 'EM', 'EM', 'L']\n"
     ]
    },
    {
     "name": "stderr",
     "output_type": "stream",
     "text": [
      "/home/vatosoa/anaconda3/lib/python3.11/site-packages/sklearn/preprocessing/_label.py:155: DataConversionWarning: A column-vector y was passed when a 1d array was expected. Please change the shape of y to (n_samples, ), for example using ravel().\n",
      "  y = column_or_1d(y, warn=True)\n"
     ]
    }
   ],
   "source": [
    "# Prédiction du modèle correspondant à la structure de la phrase\n",
    "if structure_prediction == \"Tso-drafitra\":\n",
    "    predictions_phrases_td = []\n",
    "    tokens_phrase_td = tokenize_words_td(nouvelle_phrase)  # Tokeniser la nouvelle phrase\n",
    "    predictions_tokens_td = []  # Initialiser les prédictions pour cette phrase\n",
    "    for token_td in tokens_phrase_td:\n",
    "        token_encoded_td = token_encoder_td.transform([token_td])[0]  # Encoder le token\n",
    "        token_padded_td = pad_sequences([[token_encoded_td]], maxlen=1, padding='post')  # Rembourrer le token\n",
    "        prediction_token_td = model_td.predict(token_padded_td)  # Prédire l'étiquette pour le token\n",
    "        decoded_token_td = label_encoder_td.inverse_transform(np.argmax(prediction_token_td, axis=-1))\n",
    "        predictions_tokens_td.append(decoded_token_td[0])  # Ajouter l'étiquette prédite aux prédictions de la phrase\n",
    "\n",
    "    predictions_phrases_td.append(predictions_tokens_td)  # Ajouter les prédictions pour cette phrase\n",
    "\n",
    "    print(\"Prédictions pour Tso-drafitra:\")\n",
    "    print(f\"Tokens de la phrase: {tokens_phrase_td}\")\n",
    "    print(f\"Prédictions pour chaque token: {predictions_tokens_td}\")\n",
    "\n",
    "else:\n",
    "    predictions_phrases_md = []\n",
    "    tokens_phrase_md = tokenize_words_md(nouvelle_phrase)  # Tokeniser la nouvelle phrase\n",
    "    predictions_tokens_md = []  # Initialiser les prédictions pour cette phrase\n",
    "    for token_md in tokens_phrase_md:\n",
    "        token_encoded_md = token_encoder_md.transform([token_md])[0]  # Encoder le token\n",
    "        token_padded_md = pad_sequences([[token_encoded_md]], maxlen=1, padding='post')  # Rembourrer le token\n",
    "        prediction_token_md = model_md.predict(token_padded_md)  # Prédire l'étiquette pour le token\n",
    "        decoded_token_md = label_encoder_md.inverse_transform(np.argmax(prediction_token_md, axis=-1))\n",
    "        predictions_tokens_md.append(decoded_token_md[0])  # Ajouter l'étiquette prédite aux prédictions de la phrase\n",
    "\n",
    "    predictions_phrases_md.append(predictions_tokens_md)  # Ajouter les prédictions pour cette phrase\n",
    "\n",
    "    print(\"Prédictions pour Mivadi-drafitra:\")\n",
    "    print(f\"Tokens de la phrase: {tokens_phrase_md}\")\n",
    "    print(f\"Prédictions pour chaque token: {predictions_tokens_md}\")"
   ]
  },
  {
   "cell_type": "code",
   "execution_count": 28,
   "id": "b6682231-2e42-46ed-a09f-d95e61f44a54",
   "metadata": {
    "scrolled": true
   },
   "outputs": [
    {
     "name": "stdout",
     "output_type": "stream",
     "text": [
      "Phrase entrée originale: Izy dia hitan'Andriamanitra fa tsara.\n",
      "Phrase: Izy dia hitan andriamanitra.\n"
     ]
    }
   ],
   "source": [
    "tokens = tokens_phrase_md\n",
    "tokens[0] = tokens[0].capitalize()\n",
    "phrase = \" \".join(tokens) + \".\"\n",
    "print(f\"Phrase entrée originale: {nouvelle_phrase}\")\n",
    "print(f\"Phrase: {phrase}\")\n"
   ]
  },
  {
   "cell_type": "code",
   "execution_count": 29,
   "id": "a4423f7c-74b2-428d-ae77-0e0d2e73c3bf",
   "metadata": {},
   "outputs": [
    {
     "name": "stdout",
     "output_type": "stream",
     "text": [
      "['Izy', 'dia', 'hitan', \"'\", 'Andriamanitra', 'fa', 'tsara', '.']\n",
      "Izy dia hitan Andriamanitra.\n"
     ]
    }
   ],
   "source": [
    "import re\n",
    "\n",
    "def tokenize_words_phrase(text):\n",
    "    if isinstance(text, str):\n",
    "        # Utiliser la fonction word_tokenize pour extraire les mots\n",
    "        tokens = nltk.word_tokenize(text)\n",
    "\n",
    "        # Tokeniser les caractères spéciaux\n",
    "        tokens_with_special_chars = []\n",
    "        for token in tokens:\n",
    "            # Utiliser une expression régulière pour séparer les caractères spéciaux\n",
    "            tokens_with_special_chars.extend(re.findall(r\"[\\w]+|[.,!?;']\", token))\n",
    "\n",
    "        return tokens_with_special_chars\n",
    "    else:\n",
    "        return []\n",
    "\n",
    "tokens_original = tokenize_words_phrase(nouvelle_phrase)\n",
    "print(tokens_original)\n",
    "new_tokens = []\n",
    "tokens_original = tokenize_words_phrase(nouvelle_phrase)\n",
    "\n",
    "for token_md in tokens_phrase_md:\n",
    "    found = False\n",
    "    for token_original in tokens_original:\n",
    "        if token_md == token_original.lower():\n",
    "            # Trouver l'emplacement de l'apostrophe dans le token original\n",
    "            apostrophe_index = token_original.find(\"'\")\n",
    "\n",
    "            # Si l'apostrophe est présente, l'ajouter à la position correspondante dans le nouveau token\n",
    "            if apostrophe_index != -1:\n",
    "                new_tokens[-1] = new_tokens[-1][:apostrophe_index] + \"'\" + new_tokens[-1][apostrophe_index:]\n",
    "            else:\n",
    "                new_tokens.append(token_original)\n",
    "            found = True\n",
    "            break\n",
    "\n",
    "    if not found:\n",
    "        new_tokens.append(token_md)\n",
    "\n",
    "# Reproduire la phrase originale avec les caractères spéciaux entre les deux tokens existants parallèlement (des deux listes tokens) du tokens_phrase_md\n",
    "result_phrase = ' '.join(new_tokens) + '.'\n",
    "print(result_phrase)\n"
   ]
  },
  {
   "cell_type": "code",
   "execution_count": 30,
   "id": "a47b9614-ee11-4f84-b001-5bbb8ede0837",
   "metadata": {
    "scrolled": true
   },
   "outputs": [
    {
     "name": "stdout",
     "output_type": "stream",
     "text": [
      "Izy dia hitan Andriamanitra.\n"
     ]
    }
   ],
   "source": [
    "new_tokens = []\n",
    "tokens_original = tokenize_words_phrase(nouvelle_phrase)\n",
    "\n",
    "for token_md in tokens_phrase_md:\n",
    "    found = False\n",
    "    for token_original in tokens_original:\n",
    "        if token_md == token_original.lower():\n",
    "            # Trouver l'emplacement de l'apostrophe dans le token original\n",
    "            apostrophe_index = token_original.find(\"'\")\n",
    "\n",
    "            # Si l'apostrophe est présente, l'ajouter à la position correspondante dans le nouveau token\n",
    "            if apostrophe_index != -1:\n",
    "                new_tokens[-1] = new_tokens[-1][:apostrophe_index] + \"'\" + new_tokens[-1][apostrophe_index:]\n",
    "            else:\n",
    "                new_tokens.append(token_original)\n",
    "            found = True\n",
    "            break\n",
    "\n",
    "    if not found:\n",
    "        new_tokens.append(token_md)\n",
    "\n",
    "# Reproduire la phrase originale avec les caractères spéciaux entre les deux tokens existants parallèlement (des deux listes tokens) du tokens_phrase_md\n",
    "result_phrase = ' '.join(new_tokens) + '.'\n",
    "print(result_phrase)\n"
   ]
  },
  {
   "cell_type": "markdown",
   "id": "23e3cc1a-8bf4-439e-b334-88e30f7d1d64",
   "metadata": {},
   "source": [
    "<h3>Evaluation</h3>"
   ]
  },
  {
   "cell_type": "code",
   "execution_count": 31,
   "id": "1fef0878-a89d-4b2f-82e2-1917d9fd3a6c",
   "metadata": {
    "scrolled": true
   },
   "outputs": [
    {
     "name": "stdout",
     "output_type": "stream",
     "text": [
      "Phrase 1: Izy dia hitan'Andriamanitra fa tsara.\n",
      "Tokens de la phrase: ['izy', 'dia', 'hitan', 'andriamanitra']\n",
      "Prédictions pour chaque token: ['EM', 'EM', 'EM', 'L']\n",
      "Étiquettes réelles pour la phrase: ['L', 'Kianteny', 'EM', 'F']\n",
      "Précision pour cette phrase: 25.00%\n",
      "\n",
      "\n",
      "Phrase 2: Hitan'Andriamanitra fa tsara.\n",
      "Tokens de la phrase: ['hitan', 'andriamanitra']\n",
      "Prédictions pour chaque token: []\n",
      "Étiquettes réelles pour la phrase: ['EM', 'L']\n",
      "Précision pour cette phrase: 0.00%\n",
      "\n",
      "\n",
      "Précision moyenne sur l'ensemble des phrases : 12.50%\n"
     ]
    }
   ],
   "source": [
    "# Définition des données de test et des étiquettes réelles\n",
    "nouvelles_phrases = [\"Izy dia hitan'Andriamanitra fa tsara.\", \"Hitan'Andriamanitra fa tsara.\"]\n",
    "etiquettes_reelles = [[\"L\", \"Kianteny\",\"EM\", \"F\"], [\"EM\", \"L\"]]  # Liste des étiquettes réelles pour chaque phrase\n",
    "\n",
    "# Liste pour stocker les précisions de chaque phrase\n",
    "accuracies = []\n",
    "\n",
    "for i, phrase in enumerate(nouvelles_phrases):\n",
    "    print(f\"Phrase {i + 1}: {phrase}\")\n",
    "\n",
    "    # Obtenir les prédictions pour chaque token de la phrase\n",
    "    if structure_prediction == \"Tso-drafitra\":\n",
    "        tokens_phrase = tokenize_words_td(phrase)\n",
    "        print(f\"Tokens de la phrase: {tokens_phrase}\")\n",
    "        predictions_tokens = predictions_phrases_td[i] if i < len(predictions_phrases_td) else []\n",
    "    else:\n",
    "        tokens_phrase = tokenize_words_md(phrase)\n",
    "        print(f\"Tokens de la phrase: {tokens_phrase}\")\n",
    "        predictions_tokens = predictions_phrases_md[i] if i < len(predictions_phrases_md) else []\n",
    "\n",
    "    print(f\"Prédictions pour chaque token: {predictions_tokens}\")\n",
    "\n",
    "    # Vérifier si les étiquettes réelles sont disponibles pour cette phrase\n",
    "    if i < len(etiquettes_reelles):\n",
    "        etiquettes_reelles_phrase = etiquettes_reelles[i]\n",
    "        print(f\"Étiquettes réelles pour la phrase: {etiquettes_reelles_phrase}\")\n",
    "\n",
    "        # Comparer les prédictions avec les étiquettes réelles\n",
    "        precision = sum(1 for a, b in zip(predictions_tokens, etiquettes_reelles_phrase) if a == b) / len(predictions_tokens) if predictions_tokens else 0\n",
    "        print(f\"Précision pour cette phrase: {precision * 100:.2f}%\")\n",
    "        accuracies.append(precision)\n",
    "\n",
    "    print(\"\\n\")\n",
    "\n",
    "# Calcul de la précision moyenne sur toutes les phrases\n",
    "average_accuracy = sum(accuracies) / len(accuracies) if accuracies else 0\n",
    "print(f\"Précision moyenne sur l'ensemble des phrases : {average_accuracy * 100:.2f}%\")"
   ]
  },
  {
   "cell_type": "code",
   "execution_count": 32,
   "id": "26baad70-985f-41ee-9505-24316d8b9dcb",
   "metadata": {},
   "outputs": [
    {
     "name": "stdout",
     "output_type": "stream",
     "text": [
      "Échantillon mal prédit - Prédiction : EM, Étiquette réelle : L\n",
      "Échantillon mal prédit - Prédiction : EM, Étiquette réelle : Kianteny\n",
      "Échantillon mal prédit - Prédiction : L, Étiquette réelle : F\n"
     ]
    }
   ],
   "source": [
    "# Comparaison des prédictions avec les étiquettes réelles pour chaque phrase\n",
    "if structure_prediction == \"Tso-drafitra\":\n",
    "    for i, (predictions, true_labels) in enumerate(zip(predictions_phrases_td, etiquettes_reelles)):\n",
    "        for pred, label in zip(predictions, true_labels):\n",
    "            if pred != label:\n",
    "                print(f\"Échantillon mal prédit - Prédiction : {pred}, Étiquette réelle : {label}\")\n",
    "else:\n",
    "    for i, (predictions, true_labels) in enumerate(zip(predictions_phrases_md, etiquettes_reelles)):\n",
    "        for pred, label in zip(predictions, true_labels):\n",
    "            if pred != label:\n",
    "                print(f\"Échantillon mal prédit - Prédiction : {pred}, Étiquette réelle : {label}\")\n"
   ]
  },
  {
   "cell_type": "code",
   "execution_count": 33,
   "id": "adb51c29-98f4-43a1-92b0-106bcc6bcb74",
   "metadata": {},
   "outputs": [
    {
     "ename": "ValueError",
     "evalue": "Found input variables with inconsistent numbers of samples: [6, 4]",
     "output_type": "error",
     "traceback": [
      "\u001b[0;31m---------------------------------------------------------------------------\u001b[0m",
      "\u001b[0;31mValueError\u001b[0m                                Traceback (most recent call last)",
      "Cell \u001b[0;32mIn[33], line 10\u001b[0m\n\u001b[1;32m      7\u001b[0m     predictions_aplaties \u001b[38;5;241m=\u001b[39m [label \u001b[38;5;28;01mfor\u001b[39;00m phrase_predictions \u001b[38;5;129;01min\u001b[39;00m predictions_phrases_md \u001b[38;5;28;01mfor\u001b[39;00m label \u001b[38;5;129;01min\u001b[39;00m phrase_predictions]\n\u001b[1;32m      9\u001b[0m \u001b[38;5;66;03m# Calculate the confusion matrix\u001b[39;00m\n\u001b[0;32m---> 10\u001b[0m matrice_confusion \u001b[38;5;241m=\u001b[39m confusion_matrix(etiquettes_reelles_aplaties, predictions_aplaties)\n\u001b[1;32m     11\u001b[0m \u001b[38;5;28mprint\u001b[39m(\u001b[38;5;124m\"\u001b[39m\u001b[38;5;124mMatrice de confusion :\u001b[39m\u001b[38;5;124m\"\u001b[39m)\n\u001b[1;32m     12\u001b[0m \u001b[38;5;28mprint\u001b[39m(matrice_confusion)\n",
      "File \u001b[0;32m~/anaconda3/lib/python3.11/site-packages/sklearn/metrics/_classification.py:317\u001b[0m, in \u001b[0;36mconfusion_matrix\u001b[0;34m(y_true, y_pred, labels, sample_weight, normalize)\u001b[0m\n\u001b[1;32m    232\u001b[0m \u001b[38;5;28;01mdef\u001b[39;00m \u001b[38;5;21mconfusion_matrix\u001b[39m(\n\u001b[1;32m    233\u001b[0m     y_true, y_pred, \u001b[38;5;241m*\u001b[39m, labels\u001b[38;5;241m=\u001b[39m\u001b[38;5;28;01mNone\u001b[39;00m, sample_weight\u001b[38;5;241m=\u001b[39m\u001b[38;5;28;01mNone\u001b[39;00m, normalize\u001b[38;5;241m=\u001b[39m\u001b[38;5;28;01mNone\u001b[39;00m\n\u001b[1;32m    234\u001b[0m ):\n\u001b[1;32m    235\u001b[0m \u001b[38;5;250m    \u001b[39m\u001b[38;5;124;03m\"\"\"Compute confusion matrix to evaluate the accuracy of a classification.\u001b[39;00m\n\u001b[1;32m    236\u001b[0m \n\u001b[1;32m    237\u001b[0m \u001b[38;5;124;03m    By definition a confusion matrix :math:`C` is such that :math:`C_{i, j}`\u001b[39;00m\n\u001b[0;32m   (...)\u001b[0m\n\u001b[1;32m    315\u001b[0m \u001b[38;5;124;03m    (0, 2, 1, 1)\u001b[39;00m\n\u001b[1;32m    316\u001b[0m \u001b[38;5;124;03m    \"\"\"\u001b[39;00m\n\u001b[0;32m--> 317\u001b[0m     y_type, y_true, y_pred \u001b[38;5;241m=\u001b[39m _check_targets(y_true, y_pred)\n\u001b[1;32m    318\u001b[0m     \u001b[38;5;28;01mif\u001b[39;00m y_type \u001b[38;5;129;01mnot\u001b[39;00m \u001b[38;5;129;01min\u001b[39;00m (\u001b[38;5;124m\"\u001b[39m\u001b[38;5;124mbinary\u001b[39m\u001b[38;5;124m\"\u001b[39m, \u001b[38;5;124m\"\u001b[39m\u001b[38;5;124mmulticlass\u001b[39m\u001b[38;5;124m\"\u001b[39m):\n\u001b[1;32m    319\u001b[0m         \u001b[38;5;28;01mraise\u001b[39;00m \u001b[38;5;167;01mValueError\u001b[39;00m(\u001b[38;5;124m\"\u001b[39m\u001b[38;5;132;01m%s\u001b[39;00m\u001b[38;5;124m is not supported\u001b[39m\u001b[38;5;124m\"\u001b[39m \u001b[38;5;241m%\u001b[39m y_type)\n",
      "File \u001b[0;32m~/anaconda3/lib/python3.11/site-packages/sklearn/metrics/_classification.py:86\u001b[0m, in \u001b[0;36m_check_targets\u001b[0;34m(y_true, y_pred)\u001b[0m\n\u001b[1;32m     59\u001b[0m \u001b[38;5;28;01mdef\u001b[39;00m \u001b[38;5;21m_check_targets\u001b[39m(y_true, y_pred):\n\u001b[1;32m     60\u001b[0m \u001b[38;5;250m    \u001b[39m\u001b[38;5;124;03m\"\"\"Check that y_true and y_pred belong to the same classification task.\u001b[39;00m\n\u001b[1;32m     61\u001b[0m \n\u001b[1;32m     62\u001b[0m \u001b[38;5;124;03m    This converts multiclass or binary types to a common shape, and raises a\u001b[39;00m\n\u001b[0;32m   (...)\u001b[0m\n\u001b[1;32m     84\u001b[0m \u001b[38;5;124;03m    y_pred : array or indicator matrix\u001b[39;00m\n\u001b[1;32m     85\u001b[0m \u001b[38;5;124;03m    \"\"\"\u001b[39;00m\n\u001b[0;32m---> 86\u001b[0m     check_consistent_length(y_true, y_pred)\n\u001b[1;32m     87\u001b[0m     type_true \u001b[38;5;241m=\u001b[39m type_of_target(y_true, input_name\u001b[38;5;241m=\u001b[39m\u001b[38;5;124m\"\u001b[39m\u001b[38;5;124my_true\u001b[39m\u001b[38;5;124m\"\u001b[39m)\n\u001b[1;32m     88\u001b[0m     type_pred \u001b[38;5;241m=\u001b[39m type_of_target(y_pred, input_name\u001b[38;5;241m=\u001b[39m\u001b[38;5;124m\"\u001b[39m\u001b[38;5;124my_pred\u001b[39m\u001b[38;5;124m\"\u001b[39m)\n",
      "File \u001b[0;32m~/anaconda3/lib/python3.11/site-packages/sklearn/utils/validation.py:397\u001b[0m, in \u001b[0;36mcheck_consistent_length\u001b[0;34m(*arrays)\u001b[0m\n\u001b[1;32m    395\u001b[0m uniques \u001b[38;5;241m=\u001b[39m np\u001b[38;5;241m.\u001b[39munique(lengths)\n\u001b[1;32m    396\u001b[0m \u001b[38;5;28;01mif\u001b[39;00m \u001b[38;5;28mlen\u001b[39m(uniques) \u001b[38;5;241m>\u001b[39m \u001b[38;5;241m1\u001b[39m:\n\u001b[0;32m--> 397\u001b[0m     \u001b[38;5;28;01mraise\u001b[39;00m \u001b[38;5;167;01mValueError\u001b[39;00m(\n\u001b[1;32m    398\u001b[0m         \u001b[38;5;124m\"\u001b[39m\u001b[38;5;124mFound input variables with inconsistent numbers of samples: \u001b[39m\u001b[38;5;132;01m%r\u001b[39;00m\u001b[38;5;124m\"\u001b[39m\n\u001b[1;32m    399\u001b[0m         \u001b[38;5;241m%\u001b[39m [\u001b[38;5;28mint\u001b[39m(l) \u001b[38;5;28;01mfor\u001b[39;00m l \u001b[38;5;129;01min\u001b[39;00m lengths]\n\u001b[1;32m    400\u001b[0m     )\n",
      "\u001b[0;31mValueError\u001b[0m: Found input variables with inconsistent numbers of samples: [6, 4]"
     ]
    }
   ],
   "source": [
    "# Flatten the true labels and predictions based on the structure prediction\n",
    "if structure_prediction == \"Tso-drafitra\":\n",
    "    etiquettes_reelles_aplaties = [label for phrase_labels in etiquettes_reelles for label in phrase_labels]\n",
    "    predictions_aplaties = [label for phrase_predictions in predictions_phrases_td for label in phrase_predictions]\n",
    "else:\n",
    "    etiquettes_reelles_aplaties = [label for phrase_labels in etiquettes_reelles for label in phrase_labels]\n",
    "    predictions_aplaties = [label for phrase_predictions in predictions_phrases_md for label in phrase_predictions]\n",
    "\n",
    "# Calculate the confusion matrix\n",
    "matrice_confusion = confusion_matrix(etiquettes_reelles_aplaties, predictions_aplaties)\n",
    "print(\"Matrice de confusion :\")\n",
    "print(matrice_confusion)\n"
   ]
  },
  {
   "cell_type": "code",
   "execution_count": 34,
   "id": "ae97c2d4-3b7f-484d-a6aa-404657840e1e",
   "metadata": {},
   "outputs": [
    {
     "ename": "NameError",
     "evalue": "name 'matrice_confusion' is not defined",
     "output_type": "error",
     "traceback": [
      "\u001b[0;31m---------------------------------------------------------------------------\u001b[0m",
      "\u001b[0;31mNameError\u001b[0m                                 Traceback (most recent call last)",
      "Cell \u001b[0;32mIn[34], line 10\u001b[0m\n\u001b[1;32m      8\u001b[0m     f_mesure \u001b[38;5;241m=\u001b[39m \u001b[38;5;241m2\u001b[39m \u001b[38;5;241m*\u001b[39m (precision \u001b[38;5;241m*\u001b[39m rappel) \u001b[38;5;241m/\u001b[39m (precision \u001b[38;5;241m+\u001b[39m rappel)\n\u001b[1;32m      9\u001b[0m \u001b[38;5;28;01melse\u001b[39;00m:\n\u001b[0;32m---> 10\u001b[0m     VP \u001b[38;5;241m=\u001b[39m np\u001b[38;5;241m.\u001b[39mdiag(matrice_confusion)\n\u001b[1;32m     11\u001b[0m     FP \u001b[38;5;241m=\u001b[39m np\u001b[38;5;241m.\u001b[39msum(matrice_confusion, axis\u001b[38;5;241m=\u001b[39m\u001b[38;5;241m0\u001b[39m) \u001b[38;5;241m-\u001b[39m VP\n\u001b[1;32m     12\u001b[0m     FN \u001b[38;5;241m=\u001b[39m np\u001b[38;5;241m.\u001b[39msum(matrice_confusion, axis\u001b[38;5;241m=\u001b[39m\u001b[38;5;241m1\u001b[39m) \u001b[38;5;241m-\u001b[39m VP\n",
      "\u001b[0;31mNameError\u001b[0m: name 'matrice_confusion' is not defined"
     ]
    }
   ],
   "source": [
    "# Calculate precision, recall, and F1-score for each class\n",
    "if structure_prediction == \"Tso-drafitra\":\n",
    "    VP = np.diag(matrice_confusion)\n",
    "    FP = np.sum(matrice_confusion, axis=0) - VP\n",
    "    FN = np.sum(matrice_confusion, axis=1) - VP\n",
    "    precision = VP / (VP + FP)\n",
    "    rappel = VP / (VP + FN)\n",
    "    f_mesure = 2 * (precision * rappel) / (precision + rappel)\n",
    "else:\n",
    "    VP = np.diag(matrice_confusion)\n",
    "    FP = np.sum(matrice_confusion, axis=0) - VP\n",
    "    FN = np.sum(matrice_confusion, axis=1) - VP\n",
    "    precision = VP / (VP + FP)\n",
    "    rappel = VP / (VP + FN)\n",
    "    f_mesure = 2 * (precision * rappel) / (precision + rappel)\n",
    "\n",
    "# Display results for each class\n",
    "for i in range(len(precision)):\n",
    "    print(f\"Classe {i + 1}:\")\n",
    "    print(f\"Précision: {precision[i]:.4f}\")\n",
    "    print(f\"Rappel: {rappel[i]:.4f}\")\n",
    "    print(f\"F-mesure: {f_mesure[i]:.4f}\")\n",
    "    print()\n"
   ]
  },
  {
   "cell_type": "code",
   "execution_count": 35,
   "id": "51d292e6-d0fd-4e9a-8e66-435e960556c0",
   "metadata": {},
   "outputs": [
    {
     "ename": "TypeError",
     "evalue": "object of type 'int' has no len()",
     "output_type": "error",
     "traceback": [
      "\u001b[0;31m---------------------------------------------------------------------------\u001b[0m",
      "\u001b[0;31mTypeError\u001b[0m                                 Traceback (most recent call last)",
      "Cell \u001b[0;32mIn[35], line 6\u001b[0m\n\u001b[1;32m      1\u001b[0m \u001b[38;5;28;01mimport\u001b[39;00m \u001b[38;5;21;01mmatplotlib\u001b[39;00m\u001b[38;5;21;01m.\u001b[39;00m\u001b[38;5;21;01mpyplot\u001b[39;00m \u001b[38;5;28;01mas\u001b[39;00m \u001b[38;5;21;01mplt\u001b[39;00m\n\u001b[1;32m      3\u001b[0m \u001b[38;5;66;03m# Supposons que vous avez calculé les métriques pour chaque classe (precision, recall, f_mesure)\u001b[39;00m\n\u001b[1;32m      4\u001b[0m \u001b[38;5;66;03m# Assurez-vous que precision, recall et f_mesure sont des tableaux ou des listes contenant les valeurs pour chaque classe\u001b[39;00m\n\u001b[0;32m----> 6\u001b[0m classes \u001b[38;5;241m=\u001b[39m \u001b[38;5;28mrange\u001b[39m(\u001b[38;5;28mlen\u001b[39m(precision))  \u001b[38;5;66;03m# Liste des classes (0, 1, 2, ...)\u001b[39;00m\n\u001b[1;32m      7\u001b[0m labels \u001b[38;5;241m=\u001b[39m [\u001b[38;5;124m'\u001b[39m\u001b[38;5;124mClasse \u001b[39m\u001b[38;5;124m'\u001b[39m \u001b[38;5;241m+\u001b[39m \u001b[38;5;28mstr\u001b[39m(i \u001b[38;5;241m+\u001b[39m \u001b[38;5;241m1\u001b[39m) \u001b[38;5;28;01mfor\u001b[39;00m i \u001b[38;5;129;01min\u001b[39;00m classes]  \u001b[38;5;66;03m# Labels pour les classes\u001b[39;00m\n\u001b[1;32m      9\u001b[0m \u001b[38;5;66;03m# Visualisation de la précision, du rappel et de la F-mesure pour chaque classe\u001b[39;00m\n",
      "\u001b[0;31mTypeError\u001b[0m: object of type 'int' has no len()"
     ]
    }
   ],
   "source": [
    "import matplotlib.pyplot as plt\n",
    "\n",
    "# Supposons que vous avez calculé les métriques pour chaque classe (precision, recall, f_mesure)\n",
    "# Assurez-vous que precision, recall et f_mesure sont des tableaux ou des listes contenant les valeurs pour chaque classe\n",
    "\n",
    "classes = range(len(precision))  # Liste des classes (0, 1, 2, ...)\n",
    "labels = ['Classe ' + str(i + 1) for i in classes]  # Labels pour les classes\n",
    "\n",
    "# Visualisation de la précision, du rappel et de la F-mesure pour chaque classe\n",
    "plt.figure(figsize=(10, 6))\n",
    "\n",
    "plt.bar(classes, precision, width=0.2, align='center', label='Précision')\n",
    "plt.bar([c + 0.2 for c in classes], rappel, width=0.2, align='center', label='Rappel')\n",
    "plt.bar([c + 0.4 for c in classes], f_mesure, width=0.2, align='center', label='F-mesure')\n",
    "\n",
    "plt.xlabel('Classes')\n",
    "plt.ylabel('Scores')\n",
    "plt.title('Performances par classe')\n",
    "plt.xticks([c + 0.2 for c in classes], labels)\n",
    "plt.legend()\n",
    "plt.tight_layout()\n",
    "\n",
    "plt.show()\n"
   ]
  },
  {
   "cell_type": "code",
   "execution_count": 36,
   "id": "4175f257-ee21-4646-b3b8-45a2854493f0",
   "metadata": {
    "scrolled": true
   },
   "outputs": [
    {
     "name": "stdout",
     "output_type": "stream",
     "text": [
      "...................TSO-DRAFITRA..........................\n",
      "Token Fehezanteny associé à 'EM' (index 0): nahary\n",
      "Token Fehezanteny associé à 'EM' (index 1): nanomba\n",
      "Token Fehezanteny associé à 'EM' (index 2): nanao\n",
      "Token Fehezanteny associé à 'EM' (index 3): hitan\n",
      "Token Fehezanteny associé à 'EM' (index 4): nanao\n",
      "Token Fehezanteny associé à 'EM' (index 5): nisy\n",
      "Token Fehezanteny associé à 'EM' (index 6): nanao\n",
      "Token Fehezanteny associé à 'EM' (index 7): nanao\n",
      "Token Fehezanteny associé à 'EM' (index 8): nanao\n",
      "Token Fehezanteny associé à 'EM' (index 9): nisy\n",
      "Token Fehezanteny associé à 'EM' (index 10): nanao\n",
      "Token Fehezanteny associé à 'EM' (index 11): nanao\n",
      "Token Fehezanteny associé à 'EM' (index 12): hitan\n",
      "Token Fehezanteny associé à 'EM' (index 13): nanao\n",
      "Token Fehezanteny associé à 'EM' (index 14): naniry\n",
      "Token Fehezanteny associé à 'EM' (index 15): nisy\n",
      "Token Fehezanteny associé à 'EM' (index 16): nanao\n",
      "Token Fehezanteny associé à 'EM' (index 17): fanazavana\n",
      "Token Fehezanteny associé à 'EM' (index 18): nanao\n",
      "Token Fehezanteny associé à 'EM' (index 19): nametraka\n",
      "Token Fehezanteny associé à 'EM' (index 20): hitan\n",
      "Token Fehezanteny associé à 'EM' (index 21): nisy\n",
      "Token Fehezanteny associé à 'EM' (index 22): nanao\n",
      "Token Fehezanteny associé à 'EM' (index 23): nahary\n",
      "Token Fehezanteny associé à 'EM' (index 24): hitan\n",
      "Token Fehezanteny associé à 'EM' (index 25): nitso\n",
      "Token Fehezanteny associé à 'EM' (index 26): nisy\n",
      "Token Fehezanteny associé à 'EM' (index 27): nanao\n",
      "Token Fehezanteny associé à 'EM' (index 28): nanao\n",
      "Token Fehezanteny associé à 'EM' (index 29): hitan\n",
      "Token Fehezanteny associé à 'EM' (index 30): nanao\n",
      "Token Fehezanteny associé à 'EM' (index 31): nahary\n",
      "Token Fehezanteny associé à 'EM' (index 32): nitso\n",
      "Token Fehezanteny associé à 'EM' (index 33): nanao\n",
      "Token Fehezanteny associé à 'EM' (index 34): na\n",
      "Token Fehezanteny associé à 'EM' (index 35): hitan\n",
      "Token Fehezanteny associé à 'EM' (index 36): nisy\n",
      "Token Fehezanteny associé à 'EM' (index 37): hitan\n",
      "Token Fehezanteny associé à 'EM' (index 38): nisy\n",
      "Token Fehezanteny associé à 'EM' (index 39): vita\n",
      "Token Fehezanteny associé à 'EM' (index 40): fahafito\n",
      "Token Fehezanteny associé à 'EM' (index 41): nitahy\n",
      "Token Fehezanteny associé à 'EM' (index 42): tsy\n",
      "Token Fehezanteny associé à 'EM' (index 43): tantaran\n",
      "Token Fehezanteny associé à 'EM' (index 44): namoronan\n",
      "Token Fehezanteny associé à 'EM' (index 45): nanao\n",
      "Token Fehezanteny associé à 'EM' (index 46): nisy\n",
      "...................TSO-DRAFITRA..........................\n",
      "\n",
      "Occurrence de chaque 'EM' dans le corpus td:\n",
      "nahary: 3\n",
      "nanomba: 1\n",
      "nanao: 16\n",
      "hitan: 7\n",
      "nisy: 8\n",
      "naniry: 1\n",
      "fanazavana: 1\n",
      "nametraka: 1\n",
      "nitso: 2\n",
      "na: 1\n",
      "vita: 1\n",
      "fahafito: 1\n",
      "nitahy: 1\n",
      "tsy: 1\n",
      "tantaran: 1\n",
      "namoronan: 1\n",
      "...................MIVADI-DRAFITRA..........................\n",
      "Token Fehezanteny associé à 'EM' (index 0): nahary\n",
      "Token Fehezanteny associé à 'EM' (index 1): tsy\n",
      "Token Fehezanteny associé à 'EM' (index 2): nanomba\n",
      "Token Fehezanteny associé à 'EM' (index 3): nanao\n",
      "Token Fehezanteny associé à 'EM' (index 4): nahita\n",
      "Token Fehezanteny associé à 'EM' (index 5): nataon\n",
      "Token Fehezanteny associé à 'EM' (index 6): nanao\n",
      "Token Fehezanteny associé à 'EM' (index 7): nanao\n",
      "Token Fehezanteny associé à 'EM' (index 8): hitan\n",
      "...................MIVADI-DRAFITRA..........................\n",
      "\n",
      "Occurrence de chaque 'EM' dans le corpus Md:\n",
      "nahary: 1\n",
      "tsy: 1\n",
      "nanomba: 1\n",
      "nanao: 3\n",
      "nahita: 1\n",
      "nataon: 1\n",
      "hitan: 1\n"
     ]
    }
   ],
   "source": [
    "from collections import Counter\n",
    "\n",
    "###################################################################\n",
    "#####################TSO-DRAFITRA#################################\n",
    "##################################################################\n",
    "# Retrieve the indices where Sokajinteny contains \"Mpanoritra\"\n",
    "print(\"...................TSO-DRAFITRA..........................\")\n",
    "\n",
    "indices_em = df_td[df_td['Firafitra'].apply(lambda x: 'EM' in x)].index\n",
    "\n",
    "# Create a dictionary to store the tokens of Fehezanteny associated with \"EM\" in Sokajinteny\n",
    "tokens_fehezanteny_em = {}\n",
    "\n",
    "# Create a counter for the occurrence of each \"EM\" in a sentence\n",
    "occurrences_em = Counter()\n",
    "\n",
    "# Iterate over the indices to retrieve the corresponding tokens in Fehezanteny\n",
    "for index in indices_em:\n",
    "    firafitra_tokens = df_td.at[index, 'Firafitra_tokens']\n",
    "    fehezanteny_tokens = df_td.at[index, 'Fehezanteny_tokens']\n",
    "    \n",
    "    # Check if \"EM\" is present in Firafitra_tokens\n",
    "    if 'EM' in firafitra_tokens:\n",
    "        # Retrieve the index of \"Mpanoritra\" in Firafitra_tokens\n",
    "        index_em = firafitra_tokens.index('EM')\n",
    "        \n",
    "        # Check if the index is within the range of Fehezanteny tokens\n",
    "        if index_em < len(fehezanteny_tokens):\n",
    "            # Add the specific token of Fehezanteny associated with \"EM\" to the dictionary\n",
    "            token_associated_em = fehezanteny_tokens[index_em]\n",
    "            tokens_fehezanteny_em[index] = token_associated_em\n",
    "\n",
    "            # Calculate the occurrence of \"EM\" in the sentence and add it to the counter\n",
    "            occurrences_em[token_associated_em] += 1\n",
    "            \n",
    "# Display the specific Fehezanteny tokens associated with \"EM\" in Sokajinteny\n",
    "for index, token_fehezanteny_em in tokens_fehezanteny_em.items():\n",
    "    print(f\"Token Fehezanteny associé à 'EM' (index {index}): {token_fehezanteny_em}\")\n",
    "\n",
    "# Display the occurrence of each \"Mpanoritra\" in a sentence\n",
    "print(\"...................TSO-DRAFITRA..........................\")\n",
    "print(\"\\nOccurrence de chaque 'EM' dans le corpus td:\")\n",
    "for token, count in occurrences_em.items():\n",
    "    print(f\"{token}: {count}\")\n",
    "\n",
    "\n",
    "\n",
    "\n",
    "###################################################################\n",
    "#####################MIVADI-DRAFITRA#################################\n",
    "##################################################################\n",
    "print(\"...................MIVADI-DRAFITRA..........................\")\n",
    "\n",
    "indices_em = df_md[df_md['Firafitra'].apply(lambda x: 'EM' in x)].index\n",
    "\n",
    "# Create a dictionary to store the tokens of Fehezanteny associated with \"EM\" in Sokajinteny\n",
    "tokens_fehezanteny_em = {}\n",
    "\n",
    "# Create a counter for the occurrence of each \"EM\" in a sentence\n",
    "occurrences_em = Counter()\n",
    "\n",
    "# Iterate over the indices to retrieve the corresponding tokens in Fehezanteny\n",
    "for index in indices_em:\n",
    "    firafitra_tokens = df_md.at[index, 'Firafitra_tokens']\n",
    "    fehezanteny_tokens = df_md.at[index, 'Fehezanteny_tokens']\n",
    "    \n",
    "    # Check if \"EM\" is present in Firafitra_tokens\n",
    "    if 'EM' in firafitra_tokens:\n",
    "        # Retrieve the index of \"Mpanoritra\" in Firafitra_tokens\n",
    "        index_em = firafitra_tokens.index('EM')\n",
    "        \n",
    "        # Check if the index is within the range of Fehezanteny tokens\n",
    "        if index_em < len(fehezanteny_tokens):\n",
    "            # Add the specific token of Fehezanteny associated with \"EM\" to the dictionary\n",
    "            token_associated_em = fehezanteny_tokens[index_em]\n",
    "            tokens_fehezanteny_em[index] = token_associated_em\n",
    "\n",
    "            # Calculate the occurrence of \"EM\" in the sentence and add it to the counter\n",
    "            occurrences_em[token_associated_em] += 1\n",
    "            \n",
    "# Display the specific Fehezanteny tokens associated with \"EM\" in Sokajinteny\n",
    "for index, token_fehezanteny_em in tokens_fehezanteny_em.items():\n",
    "    print(f\"Token Fehezanteny associé à 'EM' (index {index}): {token_fehezanteny_em}\")\n",
    "\n",
    "# Display the occurrence of each \"Mpanoritra\" in a sentence\n",
    "print(\"...................MIVADI-DRAFITRA..........................\")\n",
    "print(\"\\nOccurrence de chaque 'EM' dans le corpus Md:\")\n",
    "for token, count in occurrences_em.items():\n",
    "    print(f\"{token}: {count}\")\n",
    "\n"
   ]
  },
  {
   "cell_type": "markdown",
   "id": "736ae853-d03d-40c8-930c-a83ac95a0514",
   "metadata": {},
   "source": [
    "<h3>Enregistrement du modèle et encoder</h3>"
   ]
  },
  {
   "cell_type": "code",
   "execution_count": 37,
   "id": "13c94595-51dd-4e47-9261-d60a24ae1d68",
   "metadata": {},
   "outputs": [
    {
     "name": "stderr",
     "output_type": "stream",
     "text": [
      "/home/vatosoa/anaconda3/lib/python3.11/site-packages/keras/src/engine/training.py:3079: UserWarning: You are saving your model as an HDF5 file via `model.save()`. This file format is considered legacy. We recommend using instead the native Keras format, e.g. `model.save('my_model.keras')`.\n",
      "  saving_api.save_model(\n"
     ]
    },
    {
     "data": {
      "text/plain": [
       "['/home/vatosoa/mg-smart-lingua-discover/data/pretraining/mg-structurevos/label_encoder-md.joblib']"
      ]
     },
     "execution_count": 37,
     "metadata": {},
     "output_type": "execute_result"
    }
   ],
   "source": [
    "# Sauvegarde de model, model-mg-structurevos.h5 est le modèle Keras\n",
    "model_td.save('/home/vatosoa/mg-smart-lingua-discover/data/models/model-mg-structurevos-td.h5')\n",
    "model_md.save('/home/vatosoa/mg-smart-lingua-discover/data/models/model-mg-structurevos-md.h5')\n",
    "\n",
    "# Sauvegarde de la fonction de tokenization\n",
    "joblib.dump(tokenize_words_td, '/home/vatosoa/mg-smart-lingua-discover/data/pretraining/mg-structurevos/tokenization-td.joblib')\n",
    "joblib.dump(tokenize_words_md, '/home/vatosoa/mg-smart-lingua-discover/data/pretraining/mg-structurevos/tokenization-md.joblib')\n",
    "\n",
    "# Sauvegarde des encodeurs\n",
    "joblib.dump(token_encoder_td, '/home/vatosoa/mg-smart-lingua-discover/data/pretraining/mg-structurevos/token_encoder-td.joblib')\n",
    "joblib.dump(token_encoder_md, '/home/vatosoa/mg-smart-lingua-discover/data/pretraining/mg-structurevos/token_encoder-md.joblib')\n",
    "joblib.dump(label_encoder_td, '/home/vatosoa/mg-smart-lingua-discover/data/pretraining/mg-structurevos/label_encoder-td.joblib')\n",
    "joblib.dump(label_encoder_md, '/home/vatosoa/mg-smart-lingua-discover/data/pretraining/mg-structurevos/label_encoder-md.joblib')\n"
   ]
  },
  {
   "cell_type": "code",
   "execution_count": 38,
   "id": "e1224044-d3ae-4af5-b91b-07b7ec4eea07",
   "metadata": {},
   "outputs": [
    {
     "name": "stdout",
     "output_type": "stream",
     "text": [
      "Total time required for all this = 172.98796892166138\n"
     ]
    }
   ],
   "source": [
    "end = time.time()\n",
    "print(f\"Total time required for all this = {end-start}\")"
   ]
  },
  {
   "cell_type": "code",
   "execution_count": 39,
   "id": "f264649b-645c-4395-afc0-41491edc23bb",
   "metadata": {},
   "outputs": [
    {
     "name": "stdout",
     "output_type": "stream",
     "text": [
      "1708767800.4524612\n",
      "1708767973.4404302\n"
     ]
    }
   ],
   "source": [
    "print(start)\n",
    "print(end)"
   ]
  },
  {
   "cell_type": "code",
   "execution_count": null,
   "id": "e2806fad-c35e-45e0-a88f-5fd522f1fbc2",
   "metadata": {},
   "outputs": [],
   "source": []
  }
 ],
 "metadata": {
  "kernelspec": {
   "display_name": "Python 3 (ipykernel)",
   "language": "python",
   "name": "python3"
  },
  "language_info": {
   "codemirror_mode": {
    "name": "ipython",
    "version": 3
   },
   "file_extension": ".py",
   "mimetype": "text/x-python",
   "name": "python",
   "nbconvert_exporter": "python",
   "pygments_lexer": "ipython3",
   "version": "3.11.5"
  }
 },
 "nbformat": 4,
 "nbformat_minor": 5
}
