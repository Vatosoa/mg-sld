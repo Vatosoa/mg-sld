{
 "cells": [
  {
   "cell_type": "code",
   "execution_count": null,
   "id": "1877de64-1fed-4185-b241-6f12ce426a1b",
   "metadata": {},
   "outputs": [],
   "source": [
    "# Condition basée sur les résultats de la prédiction POS\n",
    "vos_corpus = \"mivadi-drafitra\" if \"Kianteny\" in pos_predictions else \"tso-drafitra\"\n",
    "\n",
    "# Charger les données\n",
    "df = self.load_data('/home/vatosoa/mg-smart-lingua-discover/data/corpus/firafitra.csv', vos_corpus)\n",
    "\n",
    "# ... (Le reste du code pour le prétraitement)\n",
    "\n",
    "# Création du modèle LSTM\n",
    "self.model = Sequential()\n",
    "# ...\n",
    "\n",
    "# Compilation et entraînement du modèle\n",
    "self.model.compile(loss='sparse_categorical_crossentropy', optimizer='adam', metrics=['accuracy'])\n",
    "self.model.fit(X_train_padded, y_train_padded, epochs=50, batch_size=32, validation_data=(X_test_padded, y_test_padded))\n",
    "\n",
    "# Sauvegarde du modèle et des encodeurs\n",
    "model_path = f'/path/to/model-mg-structurevos-{vos_corpus}.h5'\n",
    "self.model.save(model_path)\n",
    "joblib.dump(self.token_encoder, f'/path/to/token_encoder_{vos_corpus}.joblib')\n",
    "joblib.dump(self.label_encoder, f'/path/to/label_encoder_{vos_corpus}.joblib')\n"
   ]
  }
 ],
 "metadata": {
  "kernelspec": {
   "display_name": "Python 3 (ipykernel)",
   "language": "python",
   "name": "python3"
  },
  "language_info": {
   "codemirror_mode": {
    "name": "ipython",
    "version": 3
   },
   "file_extension": ".py",
   "mimetype": "text/x-python",
   "name": "python",
   "nbconvert_exporter": "python",
   "pygments_lexer": "ipython3",
   "version": "3.11.5"
  }
 },
 "nbformat": 4,
 "nbformat_minor": 5
}
